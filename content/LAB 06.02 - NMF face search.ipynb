{
  "cells": [
    {
      "cell_type": "markdown",
      "metadata": {
        "id": "view-in-github",
        "colab_type": "text"
      },
      "source": [
        "<a href=\"https://colab.research.google.com/github/danielapavas/Labs-IA/blob/main/content/LAB%2006.02%20-%20NMF%20face%20search.ipynb\" target=\"_parent\"><img src=\"https://colab.research.google.com/assets/colab-badge.svg\" alt=\"Open In Colab\"/></a>"
      ]
    },
    {
      "cell_type": "markdown",
      "metadata": {
        "id": "pUe2rEk2HdzQ"
      },
      "source": [
        "# LAB 06.02 - NMF face search"
      ]
    },
    {
      "cell_type": "code",
      "execution_count": 1,
      "metadata": {
        "id": "qFZCd38aHdzd",
        "outputId": "ecf64026-07ea-4e3a-abea-ad0e7fe083f4",
        "colab": {
          "base_uri": "https://localhost:8080/",
          "height": 75
        }
      },
      "outputs": [
        {
          "output_type": "display_data",
          "data": {
            "text/plain": [
              "<IPython.core.display.HTML object>"
            ],
            "text/html": [
              "\n",
              "<meta name=\"google-signin-client_id\"\n",
              "      content=\"461673936472-kdjosv61up3ac1ajeuq6qqu72upilmls.apps.googleusercontent.com\"/>\n",
              "<script src=\"https://apis.google.com/js/client:platform.js?onload=google_button_start\"></script>\n",
              "    "
            ]
          },
          "metadata": {}
        },
        {
          "output_type": "stream",
          "name": "stdout",
          "text": [
            "replicating local resources\n"
          ]
        },
        {
          "output_type": "execute_result",
          "data": {
            "text/plain": [
              "<IPython.core.display.HTML object>"
            ],
            "text/html": [
              "<h3>See <a href='https://m5knaekxo6.execute-api.us-west-2.amazonaws.com/dev-v0001/rlxmooc/web/login' target='_blank'>my courses and progress</a></h2>"
            ]
          },
          "metadata": {},
          "execution_count": 1
        }
      ],
      "source": [
        "!wget --no-cache -O init.py -q https://raw.githubusercontent.com/rramosp/ai4eng.v1/main/content/init.py\n",
        "import init; init.init(force_download=False); init.get_weblink()\n"
      ]
    },
    {
      "cell_type": "code",
      "execution_count": 27,
      "metadata": {
        "id": "LCWG_hkeHdzf",
        "outputId": "68a2ae8c-748e-4cd0-cd17-63fcad145606",
        "colab": {
          "base_uri": "https://localhost:8080/",
          "height": 138,
          "referenced_widgets": [
            "4e0f477f3b414ef9924e1e83df0e95ac",
            "ec2467c5644943ec8e4fb6493ceba5a0",
            "d8759eaa38684423b8aaabfd15dba924",
            "581d52f9c44b4a7c9e2f454c1b985355",
            "bef73cf50e634d3f9860d6725697520b",
            "0a983089f2d24a77911106c80d1545fa",
            "9d2323f63be34ee0be764455db540bbc",
            "01fc7375c7cd4a6f888957f383dc6948",
            "f2a0e5ebc4e54efc8616009a32c920bf",
            "d72e65eef9174b7a9a6d7eaf02943c95",
            "a4b5574315b248e2bfc7d64909b95257",
            "aa72bbd0410244d29cc1b64538b0f85b",
            "4466e88b54f14aa9b561d4b9e35a303b",
            "cf21eed9aa21434f8336713b282bb581",
            "6dd71049f9ba4321b42d131aaf0fbe69",
            "4616309f5be948639581fd592d775181",
            "d4c8a582630d4056b3eddf755c8234a1",
            "1dc40201b0af4986a7fc0fe08faa1d64",
            "d402244c6c224b899693872ac09ada03"
          ]
        }
      },
      "outputs": [
        {
          "output_type": "stream",
          "name": "stdout",
          "text": [
            "logging in as daniela.pavas1@udea.edu.co... please wait\n",
            "using course session ai4eng.v1.udea.r2::2023.1\n",
            "success!! you are logged in\n"
          ]
        }
      ],
      "source": [
        "from local.lib.rlxmoocapi import submit, session\n",
        "session.LoginSequence(endpoint=init.endpoint, course_id=init.course_id, lab_id=\"L06.02\", varname=\"student\");"
      ]
    },
    {
      "cell_type": "markdown",
      "metadata": {
        "id": "krATR-M1Hdzg"
      },
      "source": [
        "## Dataset\n",
        "\n",
        "we will use the faces dataset"
      ]
    },
    {
      "cell_type": "code",
      "execution_count": 3,
      "metadata": {
        "id": "eMV3eQO-Hdzh"
      },
      "outputs": [],
      "source": [
        "import pandas as pd\n",
        "import numpy as np\n",
        "import matplotlib.pyplot as plt\n",
        "from IPython.display import Image\n",
        "%matplotlib inline"
      ]
    },
    {
      "cell_type": "code",
      "execution_count": 4,
      "metadata": {
        "id": "CqJwGd69Hdzi",
        "outputId": "0529aca2-2be8-4150-9069-d7e059b86571",
        "colab": {
          "base_uri": "https://localhost:8080/"
        }
      },
      "outputs": [
        {
          "output_type": "execute_result",
          "data": {
            "text/plain": [
              "(535, 361)"
            ]
          },
          "metadata": {},
          "execution_count": 4
        }
      ],
      "source": [
        "\n",
        "import numpy as np\n",
        "faces = np.load(\"local/data/faces.npy\")\n",
        "faces.shape\n"
      ]
    },
    {
      "cell_type": "code",
      "execution_count": 5,
      "metadata": {
        "id": "vmUI9MzBHdzj"
      },
      "outputs": [],
      "source": [
        "def plot_faces(faces):\n",
        "    assert len(faces)<=30, \"can only plot at most 30 faces\"\n",
        "    plt.figure(figsize=(15,2))\n",
        "    for i in range(len(faces)):\n",
        "        plt.subplot(2,15,i+1)\n",
        "        plt.imshow(faces[i].reshape(19,19), cmap=plt.cm.Greys_r)\n",
        "        plt.xticks([]); plt.yticks([])"
      ]
    },
    {
      "cell_type": "code",
      "execution_count": 6,
      "metadata": {
        "id": "OhUpZ_vTHdzj",
        "outputId": "cdd89102-d00f-437e-89d0-623784555aa9",
        "colab": {
          "base_uri": "https://localhost:8080/",
          "height": 186
        }
      },
      "outputs": [
        {
          "output_type": "display_data",
          "data": {
            "text/plain": [
              "<Figure size 1500x200 with 30 Axes>"
            ],
            "image/png": "[encoded data removed]"
          },
          "metadata": {}
        }
      ],
      "source": [
        "\n",
        "plot_faces(np.random.permutation(faces)[:30])\n"
      ]
    },
    {
      "cell_type": "markdown",
      "metadata": {
        "id": "FfE9a8mlHdzk"
      },
      "source": [
        "## Task 1: Distance function for a vector\n",
        "\n",
        "complete the following function so that given a vector $v \\in \\mathbb{R}^n$ and a `numpy` array $X \\in \\mathbb{R}^{m\\times n}$ (whose rows are vectors of the same size as $v$) returns a new array $\\in \\mathbb{R}^m$ with the Euclidean distance between $v$ and each vector in $X$.\n",
        "\n",
        "Recall that the Euclidean distance between vectors $z=[z_0,...z_{n-1}]$ and $w=[w_0,...,w_{n-1}]$ is given by\n",
        "\n",
        "$$\\text{distance}(z,w) = \\sqrt{\\sum_{i=0}^{n-1} (z_i-w_i)^2}$$\n",
        "\n",
        "\n",
        "**hint**: use [`np.linalg.norm`](https://numpy.org/doc/stable/reference/generated/numpy.linalg.norm.html) to compute a distance between two vectors\n",
        "\n",
        "**challenge**: solve it using one line of code.\n",
        "\n",
        "**note**: your function must return a 1D numpy array of dimension $m$, not a list.\n",
        "\n",
        "for instance, for the following values of $v$ and $X$\n",
        "\n",
        "    X = array([[9, 5, 1, 3, 8, 3, 3, 3, 9, 2],\n",
        "               [9, 7, 0, 7, 9, 1, 4, 7, 3, 6],\n",
        "               [8, 0, 0, 5, 0, 5, 5, 1, 1, 5],\n",
        "               [8, 2, 9, 5, 6, 0, 8, 7, 2, 8],\n",
        "               [0, 6, 3, 0, 6, 6, 1, 2, 8, 0]])\n",
        "                  \n",
        "    v = np.array([9, 7, 0, 7, 9, 1, 4, 7, 3, 6])\n",
        "\n",
        "\n",
        "you should get the following result\n",
        "\n",
        "    array([ 9.74679434,  0.        , 13.89244399, 11.91637529, 16.40121947])\n"
      ]
    },
    {
      "cell_type": "markdown",
      "source": [
        "**MI SOLUCIÓN**"
      ],
      "metadata": {
        "id": "ztLnmdClH4iL"
      }
    },
    {
      "cell_type": "code",
      "execution_count": 8,
      "metadata": {
        "id": "6UrKOqq6Hdzl"
      },
      "outputs": [],
      "source": [
        "def distances(v, X):\n",
        "    result = np.linalg.norm(v - X, axis=1) # your code here\n",
        "    return result  "
      ]
    },
    {
      "cell_type": "markdown",
      "metadata": {
        "id": "jVXa6ywSHdzm"
      },
      "source": [
        "check manually your code"
      ]
    },
    {
      "cell_type": "code",
      "execution_count": 9,
      "metadata": {
        "scrolled": true,
        "id": "zc0ITC-sHdzo",
        "outputId": "5ebf132e-af22-46b8-a4b3-713894369ee1",
        "colab": {
          "base_uri": "https://localhost:8080/"
        }
      },
      "outputs": [
        {
          "output_type": "stream",
          "name": "stdout",
          "text": [
            "X=\n",
            " [[6 3 0 8 3 1 5 6 7 4]\n",
            " [9 5 2 4 6 1 6 7 2 0]\n",
            " [7 9 9 2 8 7 1 4 3 8]\n",
            " [5 1 6 1 1 8 8 7 1 1]\n",
            " [9 8 6 6 5 0 5 6 0 3]]\n",
            "\n",
            "v= [9 5 2 4 6 1 6 7 2 0]\n"
          ]
        },
        {
          "output_type": "execute_result",
          "data": {
            "text/plain": [
              "array([ 9.21954446,  0.        , 14.56021978, 11.70469991,  6.78232998])"
            ]
          },
          "metadata": {},
          "execution_count": 9
        }
      ],
      "source": [
        "X = np.random.randint(10, size=(5,10))\n",
        "v = X[1]\n",
        "\n",
        "print (\"X=\\n\", X)\n",
        "print (\"\\nv=\", v)\n",
        "distances(v, X)"
      ]
    },
    {
      "cell_type": "markdown",
      "metadata": {
        "id": "7b328TC3Hdzp"
      },
      "source": [
        "**submit your code**"
      ]
    },
    {
      "cell_type": "code",
      "execution_count": 10,
      "metadata": {
        "scrolled": true,
        "id": "2HpoEOU7Hdzq",
        "outputId": "0829f0ad-7e3a-4b8a-ddb4-644bc538a41f",
        "colab": {
          "base_uri": "https://localhost:8080/",
          "height": 163
        }
      },
      "outputs": [
        {
          "output_type": "display_data",
          "data": {
            "text/plain": [
              "<IPython.core.display.HTML object>"
            ],
            "text/html": [
              "\n",
              "                    <b>task_01 submitted.</b> <b><font color=\"blue\">your grade is 5</font></b> \n",
              "                    <p/><pre>----- grader message -------</pre><br/>testing with 100 random calls<br/><br/><b>correct</b><pre>----------------------------</pre>\n",
              "                    <p/><p/>\n",
              "                    <div style=\"font-size:10px\"><b>SUBMISSION CODE</b> TRwislSiWQge8EK8yDcxG2SmkpSC0apzSym9T0KvWxE+xeFI66InSAly0BqXJQlqOiwH0mfiX5SA1+FrEl5M0WYHRwLNzQ0MT8XaqJhZCS7xAbqtBV/kIuyieOBEUqt6Fo570YsBAvrZJOdeT0XbWe7wAiT//5O0FxBLOcUzqSo=</div>\n",
              "                    "
            ]
          },
          "metadata": {}
        }
      ],
      "source": [
        "student.submit_task(globals(), task_id=\"task_01\");"
      ]
    },
    {
      "cell_type": "code",
      "execution_count": 10,
      "metadata": {
        "id": "MtWdMu_OHdzr"
      },
      "outputs": [],
      "source": []
    },
    {
      "cell_type": "code",
      "execution_count": 10,
      "metadata": {
        "id": "Q8aj3ZUTHdzr"
      },
      "outputs": [],
      "source": []
    },
    {
      "cell_type": "markdown",
      "metadata": {
        "id": "I3QVC1nOHdz6"
      },
      "source": [
        "## Task 2: Positions of closest vectors\n",
        "\n",
        "complete the following function so that given $v$ and $X$ as previously, returns the positions of the $n$ closest vectors to $v$ in $X$.\n",
        "\n",
        "**hint**: use the [`np.argsort`](https://numpy.org/doc/stable/reference/generated/numpy.argsort.html) function\n",
        "\n",
        "**challenge**: solve it using one line of code\n",
        "\n",
        "for the example $v$ and $X$ above you should get the following outputs\n",
        "\n",
        "    >> closest(v, X, 2)\n",
        "    array([1, 0])\n",
        "\n",
        "    >> closest(v, X, 3)\n",
        "    array([1, 0, 3])\n"
      ]
    },
    {
      "cell_type": "markdown",
      "source": [
        "**MI SOLUCIÓN**"
      ],
      "metadata": {
        "id": "aO9gkI6HJNMs"
      }
    },
    {
      "cell_type": "code",
      "execution_count": 11,
      "metadata": {
        "id": "FrGwMq3BHdz9"
      },
      "outputs": [],
      "source": [
        "# your code here\n",
        "\n",
        "def closest(v, X, n):\n",
        "    assert n < len(X), \"n must at most the number of vectors in X\"\n",
        "    if n == 0:\n",
        "        return np.array([], dtype=int)\n",
        "    elif n == 1:\n",
        "        return np.array([np.argmin(np.linalg.norm(v - X, axis=1))], dtype=int)     \n",
        "    else:\n",
        "        distances = np.linalg.norm(v - X, axis=1)\n",
        "        partition = np.argpartition(distances, n)[:n]\n",
        "        result= partition[np.argsort(distances[partition])]\n",
        "        return result"
      ]
    },
    {
      "cell_type": "markdown",
      "metadata": {
        "id": "bHahu94oHd0A"
      },
      "source": [
        "check manually your code"
      ]
    },
    {
      "cell_type": "code",
      "execution_count": 12,
      "metadata": {
        "id": "Z6gWlg2CHd0B",
        "outputId": "a545a0c0-0ff3-4b26-ae41-adc3d95eeefe",
        "colab": {
          "base_uri": "https://localhost:8080/"
        }
      },
      "outputs": [
        {
          "output_type": "stream",
          "name": "stdout",
          "text": [
            "X=\n",
            " [[3 3 6 6 8 8 5 2 4 5]\n",
            " [3 0 8 3 1 4 2 2 8 9]\n",
            " [5 3 1 9 6 3 7 5 3 8]\n",
            " [1 3 0 7 1 3 7 0 1 1]\n",
            " [8 5 3 1 0 3 3 8 7 3]]\n",
            "\n",
            "v= [3 0 8 3 1 4 2 2 8 9] \n",
            "\n",
            "\n",
            "[1 0]\n",
            "[1 0 4]\n"
          ]
        }
      ],
      "source": [
        "X = np.random.randint(10, size=(5,10))\n",
        "v = X[1]\n",
        "\n",
        "print (\"X=\\n\", X)\n",
        "print (\"\\nv=\", v,\"\\n\\n\")\n",
        "print (closest(v, X, 2))\n",
        "print (closest(v, X, 3))"
      ]
    },
    {
      "cell_type": "markdown",
      "metadata": {
        "id": "vhtiloMKHd0F"
      },
      "source": [
        "### observe now how we can use your functions to search for faces similar to any other face"
      ]
    },
    {
      "cell_type": "code",
      "execution_count": 13,
      "metadata": {
        "id": "AzLGPj5LHd0F",
        "outputId": "0e4cd19b-2e55-4396-9f74-12687671ef0e",
        "colab": {
          "base_uri": "https://localhost:8080/",
          "height": 158
        }
      },
      "outputs": [
        {
          "output_type": "stream",
          "name": "stdout",
          "text": [
            "TARGET FACE\n"
          ]
        },
        {
          "output_type": "display_data",
          "data": {
            "text/plain": [
              "<Figure size 100x100 with 1 Axes>"
            ],
            "image/png": "[encoded data removed]"
          },
          "metadata": {}
        }
      ],
      "source": [
        "\n",
        "plt.figure(figsize=(1,1))\n",
        "fi = 314 # np.random.randint(len(faces)) # 314 \n",
        "face = faces[fi]\n",
        "plt.imshow(faces[fi].reshape(19,19), cmap=plt.cm.Greys_r)\n",
        "print (\"TARGET FACE\")\n"
      ]
    },
    {
      "cell_type": "code",
      "execution_count": 14,
      "metadata": {
        "id": "OEGi5c4eHd0G",
        "outputId": "1c722712-758b-4ad7-ca55-3066bfcc03e4",
        "colab": {
          "base_uri": "https://localhost:8080/",
          "height": 203
        }
      },
      "outputs": [
        {
          "output_type": "stream",
          "name": "stdout",
          "text": [
            "SIMILAR FACES\n"
          ]
        },
        {
          "output_type": "display_data",
          "data": {
            "text/plain": [
              "<Figure size 1500x200 with 30 Axes>"
            ],
            "image/png": "[encoded data removed]"
          },
          "metadata": {}
        }
      ],
      "source": [
        "\n",
        "plot_faces(faces[closest(face, faces, 30)])\n",
        "print (\"SIMILAR FACES\")\n"
      ]
    },
    {
      "cell_type": "markdown",
      "metadata": {
        "id": "7gCiEZ8GHd0I"
      },
      "source": [
        "But they do not look so similar, this is because we are doing comparison **pixel by pixel**. We will fix this in the next task"
      ]
    },
    {
      "cell_type": "code",
      "execution_count": 14,
      "metadata": {
        "id": "lNo5jQKBHd0J"
      },
      "outputs": [],
      "source": []
    },
    {
      "cell_type": "markdown",
      "metadata": {
        "id": "_sh93Hp7Hd0J"
      },
      "source": [
        "**submit your code**"
      ]
    },
    {
      "cell_type": "code",
      "execution_count": 15,
      "metadata": {
        "scrolled": false,
        "id": "kaGWdMyLHd0J",
        "outputId": "926322a7-62df-44ac-ac70-ee16f7218c2e",
        "colab": {
          "base_uri": "https://localhost:8080/",
          "height": 163
        }
      },
      "outputs": [
        {
          "output_type": "display_data",
          "data": {
            "text/plain": [
              "<IPython.core.display.HTML object>"
            ],
            "text/html": [
              "\n",
              "                    <b>task_02 submitted.</b> <b><font color=\"blue\">your grade is 5</font></b> \n",
              "                    <p/><pre>----- grader message -------</pre><br/>testing with 100 random calls<br/><br/><b>correct</b><pre>----------------------------</pre>\n",
              "                    <p/><p/>\n",
              "                    <div style=\"font-size:10px\"><b>SUBMISSION CODE</b> DCKvPB9MhvC/eiL4sQKVJ51m2iXhRVBs7dhR64qhY9WkIPcZZ+5QqwgDfVjKfUE9XWOGWws6mYI5z6b0a9cCHcXnKsFNUUDlnMbXXXvG0zN4sgs3ysMBLwyT4qBHX0KO+p+oQ1z+LpcqO3fC6+qNQk36NvnqLpbZfm3peloHANA=</div>\n",
              "                    "
            ]
          },
          "metadata": {}
        }
      ],
      "source": [
        "student.submit_task(globals(), task_id=\"task_02\");"
      ]
    },
    {
      "cell_type": "code",
      "execution_count": null,
      "metadata": {
        "id": "5Eb00HBlHd0K"
      },
      "outputs": [],
      "source": []
    },
    {
      "cell_type": "markdown",
      "metadata": {
        "id": "ia_C78rzHd0P"
      },
      "source": [
        "## Task 3: Use NMF to find similar faces\n",
        "\n",
        "Make the comparison in the faces space resulting from transforming them using NMF. For this you have to:\n",
        "\n",
        "- create an instance of NMF with `n_components=30, init=\"random\", random_state=0`\n",
        "- fit the instance with $X$\n",
        "- transform $X$\n",
        "- transform $v$\n",
        "- return the positions of closest $n$ vectors in the transformed $X$ to the transformed $v$\n",
        "\n",
        "For the target face above, you should get the following"
      ]
    },
    {
      "cell_type": "code",
      "execution_count": 16,
      "metadata": {
        "id": "P0Snbgx4Hd0Q",
        "outputId": "e7a84291-34ad-423d-b0b8-42fec1750678",
        "colab": {
          "base_uri": "https://localhost:8080/",
          "height": 141
        }
      },
      "outputs": [
        {
          "output_type": "execute_result",
          "data": {
            "image/png": "[encoded data removed]",
            "text/plain": [
              "<IPython.core.display.Image object>"
            ]
          },
          "metadata": {},
          "execution_count": 16
        }
      ],
      "source": [
        "\n",
        "from IPython.display import Image\n",
        "Image(filename='local/imgs/similar-images2.png')\n"
      ]
    },
    {
      "cell_type": "markdown",
      "source": [
        "**MI SOLUCÓN**"
      ],
      "metadata": {
        "id": "K8iHSg7EKvo1"
      }
    },
    {
      "cell_type": "code",
      "execution_count": 30,
      "metadata": {
        "id": "9Q7MkUBiHd0Q"
      },
      "outputs": [],
      "source": [
        "def find_similar(v,X,n):\n",
        "    from sklearn.decomposition import NMF\n",
        "    \n",
        "    nmf = NMF(n_components=30, init=\"random\", random_state=0)\n",
        "    nmf.fit(X)\n",
        "    Xt = nmf.transform(X)\n",
        "    vt = nmf.transform(v.reshape(1,-1))\n",
        "    \n",
        "    result = np.argsort(np.linalg.norm(vt - Xt, axis=1))[:n]\n",
        "\n",
        "    return result"
      ]
    },
    {
      "cell_type": "markdown",
      "metadata": {
        "id": "6phmhAzeHd0S"
      },
      "source": [
        "check manually your answer"
      ]
    },
    {
      "cell_type": "code",
      "execution_count": 31,
      "metadata": {
        "id": "EsYW8iQjHd0T",
        "outputId": "b3597f74-7554-4543-bd73-af17726bbe3e",
        "colab": {
          "base_uri": "https://localhost:8080/",
          "height": 221
        }
      },
      "outputs": [
        {
          "output_type": "stream",
          "name": "stderr",
          "text": [
            "/usr/local/lib/python3.10/dist-packages/sklearn/decomposition/_nmf.py:1665: ConvergenceWarning: Maximum number of iterations 200 reached. Increase it to improve convergence.\n",
            "  warnings.warn(\n"
          ]
        },
        {
          "output_type": "display_data",
          "data": {
            "text/plain": [
              "<Figure size 1500x200 with 30 Axes>"
            ],
            "image/png": "[encoded data removed]"
          },
          "metadata": {}
        }
      ],
      "source": [
        "\n",
        "plot_faces(faces[find_similar(face, faces, 30)])\n"
      ]
    },
    {
      "cell_type": "markdown",
      "metadata": {
        "id": "KhKOK8j8Hd0W"
      },
      "source": [
        "**submit your code**"
      ]
    },
    {
      "cell_type": "code",
      "execution_count": 32,
      "metadata": {
        "scrolled": false,
        "id": "cweMCjcLHd0X",
        "outputId": "be40e9c8-e952-4f7c-d660-4ac7e04890da",
        "colab": {
          "base_uri": "https://localhost:8080/",
          "height": 163
        }
      },
      "outputs": [
        {
          "output_type": "display_data",
          "data": {
            "text/plain": [
              "<IPython.core.display.HTML object>"
            ],
            "text/html": [
              "\n",
              "                    <b>task_03 submitted.</b> <b><font color=\"blue\">your grade is 5</font></b> \n",
              "                    <p/><pre>----- grader message -------</pre><br/>testing with 100 random calls<br/><br/><b>correct</b><pre>----------------------------</pre>\n",
              "                    <p/><p/>\n",
              "                    <div style=\"font-size:10px\"><b>SUBMISSION CODE</b> g/taOQVUxS57MqFT9nHuVQln5JAmjXPlSEdKp+v1Z09Ax+0yMwufTE31Z3UW6/xLpSSARhht9PXDmazjntqC9jCLeYTYBaBsFHdCOzPq4U2kKhn58ZS+P7+z2dqbbEBbqzRil+9fsrgzeaECOAycR0kahPUCQP41tEU5PqdzaJY=</div>\n",
              "                    "
            ]
          },
          "metadata": {}
        }
      ],
      "source": [
        "student.submit_task(globals(), task_id=\"task_03\");"
      ]
    },
    {
      "cell_type": "code",
      "execution_count": null,
      "metadata": {
        "id": "obu-Ky-CHd0X"
      },
      "outputs": [],
      "source": []
    },
    {
      "cell_type": "code",
      "execution_count": null,
      "metadata": {
        "id": "Sunh2cz4Hd0Y"
      },
      "outputs": [],
      "source": []
    }
  ],
  "metadata": {
    "kernelspec": {
      "display_name": "Python 3",
      "language": "python",
      "name": "python3"
    },
    "language_info": {
      "codemirror_mode": {
        "name": "ipython",
        "version": 3
      },
      "file_extension": ".py",
      "mimetype": "text/x-python",
      "name": "python",
      "nbconvert_exporter": "python",
      "pygments_lexer": "ipython3",
      "version": "3.7.3"
    },
    "colab": {
      "provenance": [],
      "include_colab_link": true
    },
    "widgets": {
      "application/vnd.jupyter.widget-state+json": {
        "4e0f477f3b414ef9924e1e83df0e95ac": {
          "model_module": "@jupyter-widgets/controls",
          "model_name": "HBoxModel",
          "model_module_version": "1.5.0",
          "state": {
            "_dom_classes": [],
            "_model_module": "@jupyter-widgets/controls",
            "_model_module_version": "1.5.0",
            "_model_name": "HBoxModel",
            "_view_count": null,
            "_view_module": "@jupyter-widgets/controls",
            "_view_module_version": "1.5.0",
            "_view_name": "HBoxView",
            "box_style": "",
            "children": [
              "IPY_MODEL_ec2467c5644943ec8e4fb6493ceba5a0",
              "IPY_MODEL_d8759eaa38684423b8aaabfd15dba924",
              "IPY_MODEL_581d52f9c44b4a7c9e2f454c1b985355",
              "IPY_MODEL_bef73cf50e634d3f9860d6725697520b"
            ],
            "layout": "IPY_MODEL_0a983089f2d24a77911106c80d1545fa"
          }
        },
        "ec2467c5644943ec8e4fb6493ceba5a0": {
          "model_module": "@jupyter-widgets/controls",
          "model_name": "VBoxModel",
          "model_module_version": "1.5.0",
          "state": {
            "_dom_classes": [],
            "_model_module": "@jupyter-widgets/controls",
            "_model_module_version": "1.5.0",
            "_model_name": "VBoxModel",
            "_view_count": null,
            "_view_module": "@jupyter-widgets/controls",
            "_view_module_version": "1.5.0",
            "_view_name": "VBoxView",
            "box_style": "",
            "children": [
              "IPY_MODEL_9d2323f63be34ee0be764455db540bbc",
              "IPY_MODEL_01fc7375c7cd4a6f888957f383dc6948"
            ],
            "layout": "IPY_MODEL_f2a0e5ebc4e54efc8616009a32c920bf"
          }
        },
        "d8759eaa38684423b8aaabfd15dba924": {
          "model_module": "@jupyter-widgets/controls",
          "model_name": "ButtonModel",
          "model_module_version": "1.5.0",
          "state": {
            "_dom_classes": [
              "login_button"
            ],
            "_model_module": "@jupyter-widgets/controls",
            "_model_module_version": "1.5.0",
            "_model_name": "ButtonModel",
            "_view_count": null,
            "_view_module": "@jupyter-widgets/controls",
            "_view_module_version": "1.5.0",
            "_view_name": "ButtonView",
            "button_style": "",
            "description": "Login with email",
            "disabled": false,
            "icon": "",
            "layout": "IPY_MODEL_d72e65eef9174b7a9a6d7eaf02943c95",
            "style": "IPY_MODEL_a4b5574315b248e2bfc7d64909b95257",
            "tooltip": ""
          }
        },
        "581d52f9c44b4a7c9e2f454c1b985355": {
          "model_module": "@jupyter-widgets/controls",
          "model_name": "HTMLModel",
          "model_module_version": "1.5.0",
          "state": {
            "_dom_classes": [],
            "_model_module": "@jupyter-widgets/controls",
            "_model_module_version": "1.5.0",
            "_model_name": "HTMLModel",
            "_view_count": null,
            "_view_module": "@jupyter-widgets/controls",
            "_view_module_version": "1.5.0",
            "_view_name": "HTMLView",
            "description": "",
            "description_tooltip": null,
            "layout": "IPY_MODEL_aa72bbd0410244d29cc1b64538b0f85b",
            "placeholder": "​",
            "style": "IPY_MODEL_4466e88b54f14aa9b561d4b9e35a303b",
            "value": "<center><big>or</big></center>"
          }
        },
        "bef73cf50e634d3f9860d6725697520b": {
          "model_module": "@jupyter-widgets/controls",
          "model_name": "ButtonModel",
          "model_module_version": "1.5.0",
          "state": {
            "_dom_classes": [
              "google_button"
            ],
            "_model_module": "@jupyter-widgets/controls",
            "_model_module_version": "1.5.0",
            "_model_name": "ButtonModel",
            "_view_count": null,
            "_view_module": "@jupyter-widgets/controls",
            "_view_module_version": "1.5.0",
            "_view_name": "ButtonView",
            "button_style": "",
            "description": "Login with Google",
            "disabled": false,
            "icon": "",
            "layout": "IPY_MODEL_cf21eed9aa21434f8336713b282bb581",
            "style": "IPY_MODEL_6dd71049f9ba4321b42d131aaf0fbe69",
            "tooltip": ""
          }
        },
        "0a983089f2d24a77911106c80d1545fa": {
          "model_module": "@jupyter-widgets/base",
          "model_name": "LayoutModel",
          "model_module_version": "1.2.0",
          "state": {
            "_model_module": "@jupyter-widgets/base",
            "_model_module_version": "1.2.0",
            "_model_name": "LayoutModel",
            "_view_count": null,
            "_view_module": "@jupyter-widgets/base",
            "_view_module_version": "1.2.0",
            "_view_name": "LayoutView",
            "align_content": null,
            "align_items": null,
            "align_self": null,
            "border": null,
            "bottom": null,
            "display": null,
            "flex": null,
            "flex_flow": null,
            "grid_area": null,
            "grid_auto_columns": null,
            "grid_auto_flow": null,
            "grid_auto_rows": null,
            "grid_column": null,
            "grid_gap": null,
            "grid_row": null,
            "grid_template_areas": null,
            "grid_template_columns": null,
            "grid_template_rows": null,
            "height": null,
            "justify_content": null,
            "justify_items": null,
            "left": null,
            "margin": null,
            "max_height": null,
            "max_width": null,
            "min_height": null,
            "min_width": null,
            "object_fit": null,
            "object_position": null,
            "order": null,
            "overflow": null,
            "overflow_x": null,
            "overflow_y": null,
            "padding": null,
            "right": null,
            "top": null,
            "visibility": null,
            "width": null
          }
        },
        "9d2323f63be34ee0be764455db540bbc": {
          "model_module": "@jupyter-widgets/controls",
          "model_name": "TextModel",
          "model_module_version": "1.5.0",
          "state": {
            "_dom_classes": [],
            "_model_module": "@jupyter-widgets/controls",
            "_model_module_version": "1.5.0",
            "_model_name": "TextModel",
            "_view_count": null,
            "_view_module": "@jupyter-widgets/controls",
            "_view_module_version": "1.5.0",
            "_view_name": "TextView",
            "continuous_update": true,
            "description": "email",
            "description_tooltip": null,
            "disabled": false,
            "layout": "IPY_MODEL_4616309f5be948639581fd592d775181",
            "placeholder": "​",
            "style": "IPY_MODEL_d4c8a582630d4056b3eddf755c8234a1",
            "value": ""
          }
        },
        "01fc7375c7cd4a6f888957f383dc6948": {
          "model_module": "@jupyter-widgets/controls",
          "model_name": "PasswordModel",
          "model_module_version": "1.5.0",
          "state": {
            "_dom_classes": [],
            "_model_module": "@jupyter-widgets/controls",
            "_model_module_version": "1.5.0",
            "_model_name": "PasswordModel",
            "_view_count": null,
            "_view_module": "@jupyter-widgets/controls",
            "_view_module_version": "1.5.0",
            "_view_name": "PasswordView",
            "continuous_update": true,
            "description": "password",
            "description_tooltip": null,
            "disabled": false,
            "layout": "IPY_MODEL_1dc40201b0af4986a7fc0fe08faa1d64",
            "placeholder": "​",
            "style": "IPY_MODEL_d402244c6c224b899693872ac09ada03",
            "value": ""
          }
        },
        "f2a0e5ebc4e54efc8616009a32c920bf": {
          "model_module": "@jupyter-widgets/base",
          "model_name": "LayoutModel",
          "model_module_version": "1.2.0",
          "state": {
            "_model_module": "@jupyter-widgets/base",
            "_model_module_version": "1.2.0",
            "_model_name": "LayoutModel",
            "_view_count": null,
            "_view_module": "@jupyter-widgets/base",
            "_view_module_version": "1.2.0",
            "_view_name": "LayoutView",
            "align_content": null,
            "align_items": null,
            "align_self": null,
            "border": null,
            "bottom": null,
            "display": null,
            "flex": null,
            "flex_flow": null,
            "grid_area": null,
            "grid_auto_columns": null,
            "grid_auto_flow": null,
            "grid_auto_rows": null,
            "grid_column": null,
            "grid_gap": null,
            "grid_row": null,
            "grid_template_areas": null,
            "grid_template_columns": null,
            "grid_template_rows": null,
            "height": null,
            "justify_content": null,
            "justify_items": null,
            "left": null,
            "margin": null,
            "max_height": null,
            "max_width": null,
            "min_height": null,
            "min_width": null,
            "object_fit": null,
            "object_position": null,
            "order": null,
            "overflow": null,
            "overflow_x": null,
            "overflow_y": null,
            "padding": null,
            "right": null,
            "top": null,
            "visibility": null,
            "width": null
          }
        },
        "d72e65eef9174b7a9a6d7eaf02943c95": {
          "model_module": "@jupyter-widgets/base",
          "model_name": "LayoutModel",
          "model_module_version": "1.2.0",
          "state": {
            "_model_module": "@jupyter-widgets/base",
            "_model_module_version": "1.2.0",
            "_model_name": "LayoutModel",
            "_view_count": null,
            "_view_module": "@jupyter-widgets/base",
            "_view_module_version": "1.2.0",
            "_view_name": "LayoutView",
            "align_content": null,
            "align_items": null,
            "align_self": null,
            "border": null,
            "bottom": null,
            "display": null,
            "flex": null,
            "flex_flow": null,
            "grid_area": null,
            "grid_auto_columns": null,
            "grid_auto_flow": null,
            "grid_auto_rows": null,
            "grid_column": null,
            "grid_gap": null,
            "grid_row": null,
            "grid_template_areas": null,
            "grid_template_columns": null,
            "grid_template_rows": null,
            "height": "53px",
            "justify_content": null,
            "justify_items": null,
            "left": null,
            "margin": null,
            "max_height": null,
            "max_width": null,
            "min_height": null,
            "min_width": null,
            "object_fit": null,
            "object_position": null,
            "order": null,
            "overflow": null,
            "overflow_x": null,
            "overflow_y": null,
            "padding": null,
            "right": null,
            "top": null,
            "visibility": null,
            "width": "150px"
          }
        },
        "a4b5574315b248e2bfc7d64909b95257": {
          "model_module": "@jupyter-widgets/controls",
          "model_name": "ButtonStyleModel",
          "model_module_version": "1.5.0",
          "state": {
            "_model_module": "@jupyter-widgets/controls",
            "_model_module_version": "1.5.0",
            "_model_name": "ButtonStyleModel",
            "_view_count": null,
            "_view_module": "@jupyter-widgets/base",
            "_view_module_version": "1.2.0",
            "_view_name": "StyleView",
            "button_color": null,
            "font_weight": ""
          }
        },
        "aa72bbd0410244d29cc1b64538b0f85b": {
          "model_module": "@jupyter-widgets/base",
          "model_name": "LayoutModel",
          "model_module_version": "1.2.0",
          "state": {
            "_model_module": "@jupyter-widgets/base",
            "_model_module_version": "1.2.0",
            "_model_name": "LayoutModel",
            "_view_count": null,
            "_view_module": "@jupyter-widgets/base",
            "_view_module_version": "1.2.0",
            "_view_name": "LayoutView",
            "align_content": null,
            "align_items": null,
            "align_self": null,
            "border": null,
            "bottom": null,
            "display": null,
            "flex": null,
            "flex_flow": null,
            "grid_area": null,
            "grid_auto_columns": null,
            "grid_auto_flow": null,
            "grid_auto_rows": null,
            "grid_column": null,
            "grid_gap": null,
            "grid_row": null,
            "grid_template_areas": null,
            "grid_template_columns": null,
            "grid_template_rows": null,
            "height": null,
            "justify_content": null,
            "justify_items": null,
            "left": null,
            "margin": null,
            "max_height": null,
            "max_width": null,
            "min_height": null,
            "min_width": null,
            "object_fit": null,
            "object_position": null,
            "order": null,
            "overflow": null,
            "overflow_x": null,
            "overflow_y": null,
            "padding": null,
            "right": null,
            "top": null,
            "visibility": null,
            "width": "100px"
          }
        },
        "4466e88b54f14aa9b561d4b9e35a303b": {
          "model_module": "@jupyter-widgets/controls",
          "model_name": "DescriptionStyleModel",
          "model_module_version": "1.5.0",
          "state": {
            "_model_module": "@jupyter-widgets/controls",
            "_model_module_version": "1.5.0",
            "_model_name": "DescriptionStyleModel",
            "_view_count": null,
            "_view_module": "@jupyter-widgets/base",
            "_view_module_version": "1.2.0",
            "_view_name": "StyleView",
            "description_width": ""
          }
        },
        "cf21eed9aa21434f8336713b282bb581": {
          "model_module": "@jupyter-widgets/base",
          "model_name": "LayoutModel",
          "model_module_version": "1.2.0",
          "state": {
            "_model_module": "@jupyter-widgets/base",
            "_model_module_version": "1.2.0",
            "_model_name": "LayoutModel",
            "_view_count": null,
            "_view_module": "@jupyter-widgets/base",
            "_view_module_version": "1.2.0",
            "_view_name": "LayoutView",
            "align_content": null,
            "align_items": null,
            "align_self": null,
            "border": null,
            "bottom": null,
            "display": null,
            "flex": null,
            "flex_flow": null,
            "grid_area": null,
            "grid_auto_columns": null,
            "grid_auto_flow": null,
            "grid_auto_rows": null,
            "grid_column": null,
            "grid_gap": null,
            "grid_row": null,
            "grid_template_areas": null,
            "grid_template_columns": null,
            "grid_template_rows": null,
            "height": "53px",
            "justify_content": null,
            "justify_items": null,
            "left": null,
            "margin": null,
            "max_height": null,
            "max_width": null,
            "min_height": null,
            "min_width": null,
            "object_fit": null,
            "object_position": null,
            "order": null,
            "overflow": null,
            "overflow_x": null,
            "overflow_y": null,
            "padding": null,
            "right": null,
            "top": null,
            "visibility": null,
            "width": "200px"
          }
        },
        "6dd71049f9ba4321b42d131aaf0fbe69": {
          "model_module": "@jupyter-widgets/controls",
          "model_name": "ButtonStyleModel",
          "model_module_version": "1.5.0",
          "state": {
            "_model_module": "@jupyter-widgets/controls",
            "_model_module_version": "1.5.0",
            "_model_name": "ButtonStyleModel",
            "_view_count": null,
            "_view_module": "@jupyter-widgets/base",
            "_view_module_version": "1.2.0",
            "_view_name": "StyleView",
            "button_color": null,
            "font_weight": ""
          }
        },
        "4616309f5be948639581fd592d775181": {
          "model_module": "@jupyter-widgets/base",
          "model_name": "LayoutModel",
          "model_module_version": "1.2.0",
          "state": {
            "_model_module": "@jupyter-widgets/base",
            "_model_module_version": "1.2.0",
            "_model_name": "LayoutModel",
            "_view_count": null,
            "_view_module": "@jupyter-widgets/base",
            "_view_module_version": "1.2.0",
            "_view_name": "LayoutView",
            "align_content": null,
            "align_items": null,
            "align_self": null,
            "border": null,
            "bottom": null,
            "display": null,
            "flex": null,
            "flex_flow": null,
            "grid_area": null,
            "grid_auto_columns": null,
            "grid_auto_flow": null,
            "grid_auto_rows": null,
            "grid_column": null,
            "grid_gap": null,
            "grid_row": null,
            "grid_template_areas": null,
            "grid_template_columns": null,
            "grid_template_rows": null,
            "height": "25px",
            "justify_content": null,
            "justify_items": null,
            "left": null,
            "margin": null,
            "max_height": null,
            "max_width": null,
            "min_height": null,
            "min_width": null,
            "object_fit": null,
            "object_position": null,
            "order": null,
            "overflow": null,
            "overflow_x": null,
            "overflow_y": null,
            "padding": null,
            "right": null,
            "top": null,
            "visibility": null,
            "width": "300px"
          }
        },
        "d4c8a582630d4056b3eddf755c8234a1": {
          "model_module": "@jupyter-widgets/controls",
          "model_name": "DescriptionStyleModel",
          "model_module_version": "1.5.0",
          "state": {
            "_model_module": "@jupyter-widgets/controls",
            "_model_module_version": "1.5.0",
            "_model_name": "DescriptionStyleModel",
            "_view_count": null,
            "_view_module": "@jupyter-widgets/base",
            "_view_module_version": "1.2.0",
            "_view_name": "StyleView",
            "description_width": ""
          }
        },
        "1dc40201b0af4986a7fc0fe08faa1d64": {
          "model_module": "@jupyter-widgets/base",
          "model_name": "LayoutModel",
          "model_module_version": "1.2.0",
          "state": {
            "_model_module": "@jupyter-widgets/base",
            "_model_module_version": "1.2.0",
            "_model_name": "LayoutModel",
            "_view_count": null,
            "_view_module": "@jupyter-widgets/base",
            "_view_module_version": "1.2.0",
            "_view_name": "LayoutView",
            "align_content": null,
            "align_items": null,
            "align_self": null,
            "border": null,
            "bottom": null,
            "display": null,
            "flex": null,
            "flex_flow": null,
            "grid_area": null,
            "grid_auto_columns": null,
            "grid_auto_flow": null,
            "grid_auto_rows": null,
            "grid_column": null,
            "grid_gap": null,
            "grid_row": null,
            "grid_template_areas": null,
            "grid_template_columns": null,
            "grid_template_rows": null,
            "height": "24px",
            "justify_content": null,
            "justify_items": null,
            "left": null,
            "margin": null,
            "max_height": null,
            "max_width": null,
            "min_height": null,
            "min_width": null,
            "object_fit": null,
            "object_position": null,
            "order": null,
            "overflow": null,
            "overflow_x": null,
            "overflow_y": null,
            "padding": null,
            "right": null,
            "top": null,
            "visibility": null,
            "width": "300px"
          }
        },
        "d402244c6c224b899693872ac09ada03": {
          "model_module": "@jupyter-widgets/controls",
          "model_name": "DescriptionStyleModel",
          "model_module_version": "1.5.0",
          "state": {
            "_model_module": "@jupyter-widgets/controls",
            "_model_module_version": "1.5.0",
            "_model_name": "DescriptionStyleModel",
            "_view_count": null,
            "_view_module": "@jupyter-widgets/base",
            "_view_module_version": "1.2.0",
            "_view_name": "StyleView",
            "description_width": ""
          }
        }
      }
    }
  },
  "nbformat": 4,
  "nbformat_minor": 0
}