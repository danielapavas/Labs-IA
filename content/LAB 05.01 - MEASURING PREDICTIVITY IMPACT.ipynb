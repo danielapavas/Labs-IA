{
  "cells": [
    {
      "cell_type": "markdown",
      "metadata": {
        "id": "view-in-github",
        "colab_type": "text"
      },
      "source": [
        "<a href=\"https://colab.research.google.com/github/danielapavas/Labs-IA/blob/main/content/LAB%2005.01%20-%20MEASURING%20PREDICTIVITY%20IMPACT.ipynb\" target=\"_parent\"><img src=\"https://colab.research.google.com/assets/colab-badge.svg\" alt=\"Open In Colab\"/></a>"
      ]
    },
    {
      "cell_type": "markdown",
      "metadata": {
        "id": "eJ8_tcPMDjEy"
      },
      "source": [
        "# LAB 05.01 - Predictions impact"
      ]
    },
    {
      "cell_type": "code",
      "execution_count": 1,
      "metadata": {
        "id": "GXZUWAhiDjF8",
        "outputId": "8c45f7c4-5881-4f69-f8cf-1f86417e8b60",
        "colab": {
          "base_uri": "https://localhost:8080/",
          "height": 75
        }
      },
      "outputs": [
        {
          "output_type": "display_data",
          "data": {
            "text/plain": [
              "<IPython.core.display.HTML object>"
            ],
            "text/html": [
              "\n",
              "<meta name=\"google-signin-client_id\"\n",
              "      content=\"461673936472-kdjosv61up3ac1ajeuq6qqu72upilmls.apps.googleusercontent.com\"/>\n",
              "<script src=\"https://apis.google.com/js/client:platform.js?onload=google_button_start\"></script>\n",
              "    "
            ]
          },
          "metadata": {}
        },
        {
          "output_type": "stream",
          "name": "stdout",
          "text": [
            "replicating local resources\n"
          ]
        },
        {
          "output_type": "execute_result",
          "data": {
            "text/plain": [
              "<IPython.core.display.HTML object>"
            ],
            "text/html": [
              "<h3>See <a href='https://m5knaekxo6.execute-api.us-west-2.amazonaws.com/dev-v0001/rlxmooc/web/login' target='_blank'>my courses and progress</a></h2>"
            ]
          },
          "metadata": {},
          "execution_count": 1
        }
      ],
      "source": [
        "!wget --no-cache -O init.py -q https://raw.githubusercontent.com/rramosp/ai4eng.v1/main/content/init.py\n",
        "import init; init.init(force_download=False); init.get_weblink()\n"
      ]
    },
    {
      "cell_type": "code",
      "execution_count": 18,
      "metadata": {
        "id": "YBx1f-52DjF-",
        "outputId": "ec9bf06c-b036-44bd-f406-440435dbafb6",
        "colab": {
          "base_uri": "https://localhost:8080/",
          "height": 138,
          "referenced_widgets": [
            "7e1059800f8e46939d9cd6f4aed993c8",
            "8b6fe4d601a64d6fa8d1316884be1a93",
            "6e532ee61610408fb3a176a96ecf1f0a",
            "656fd80ecf614608afa9b3c78f010516",
            "8defb13c90d54220afed376faf8437c3",
            "a835f511ac7d4a59a1ec14e741eecc46",
            "1f59aab7733041288430aa6d41fbcb91",
            "09552b9c263e4f44bf34a966b3e88ac4",
            "49df93db666f4491a4ecb183a7d03ee7",
            "fe2a274f4e1345da98f375cc614baef8",
            "af961be7b5a24ca5aa2b751abe702cb6",
            "44af147594884a5fb31e565d81c81770",
            "7462cafde7d84dbba3d6beff979011ec",
            "3f8195bf9b834a1c9a7c92110e299191",
            "e5020727b4bd4304a74947756244bc80",
            "5fc7fa75942148fba5211e850b13b03d",
            "cf1ecd77b1594f2593baf9f5bf759660",
            "860241a3b3994a139bdd5bf332cf960d",
            "440f73572168404dafbe9321e7fb36ae"
          ]
        }
      },
      "outputs": [
        {
          "output_type": "stream",
          "name": "stdout",
          "text": [
            "logging in as daniela.pavas1@udea.edu.co... please wait\n",
            "using course session ai4eng.v1.udea.r2::2023.1\n",
            "success!! you are logged in\n"
          ]
        }
      ],
      "source": [
        "from local.lib.rlxmoocapi import submit, session\n",
        "session.LoginSequence(endpoint=init.endpoint, course_id=init.course_id, lab_id=\"L05.01\", varname=\"student\");"
      ]
    },
    {
      "cell_type": "code",
      "execution_count": null,
      "metadata": {
        "id": "i5b_Bw6uDjF_"
      },
      "outputs": [],
      "source": []
    },
    {
      "cell_type": "markdown",
      "metadata": {
        "id": "oZvOEORpDjGB"
      },
      "source": [
        "## Task 1. Compute PNL from strategy\n",
        "\n",
        "observe the following signal `s`, and model trend predictions `p` (not perfect predictions!!)"
      ]
    },
    {
      "cell_type": "code",
      "execution_count": 3,
      "metadata": {
        "id": "X8-RRdesDjGD",
        "outputId": "dd3c3f62-2c15-456d-bfeb-e20e8f3ebb42",
        "colab": {
          "base_uri": "https://localhost:8080/"
        }
      },
      "outputs": [
        {
          "output_type": "stream",
          "name": "stdout",
          "text": [
            "(20,) (19,)\n"
          ]
        }
      ],
      "source": [
        "import numpy as np\n",
        "import matplotlib.pyplot as plt\n",
        "import pandas as pd\n",
        "%matplotlib inline\n",
        "s = np.round((np.random.normal(size=20)*5+.5).cumsum()+100,2)\n",
        "p = (np.random.random(size=len(s)-1)>.3).astype(int)\n",
        "print (s.shape, p.shape)"
      ]
    },
    {
      "cell_type": "code",
      "execution_count": 4,
      "metadata": {
        "id": "kect_2CYDjGE",
        "outputId": "2c146457-c9d1-4af7-d289-1d9108c8095b",
        "colab": {
          "base_uri": "https://localhost:8080/",
          "height": 501
        }
      },
      "outputs": [
        {
          "output_type": "stream",
          "name": "stdout",
          "text": [
            "SIGNAL     [ 93.86 100.96  98.38  99.63  99.49  85.37  76.98  70.12  70.43  66.95\n",
            "  66.68  73.3   77.28  83.25  81.44  75.97  84.79  80.09  82.42  76.85]\n",
            "PREDICTION [1 0 1 1 0 1 0 0 0 0 1 1 1 0 0 1 1 1 0]\n"
          ]
        },
        {
          "output_type": "display_data",
          "data": {
            "text/plain": [
              "<Figure size 640x480 with 1 Axes>"
            ],
            "image/png": "[encoded data removed]"
          },
          "metadata": {}
        }
      ],
      "source": [
        " \n",
        "plt.plot(s, color=\"black\")\n",
        "plt.scatter(np.arange(len(p))[p==0], s[:-1][p==0], color=\"red\", label=\"prediction down\")\n",
        "plt.scatter(np.arange(len(p))[p==1], s[:-1][p==1], color=\"blue\", label=\"prediction up\")\n",
        "plt.grid(); plt.legend(); plt.xlabel(\"time instant\"); plt.ylabel(\"price\")\n",
        "plt.xticks(range(len(s)), range(len(s)))\n",
        "pd.DataFrame(np.vstack((s,list(p)+[np.nan])), index=[\"signal\", \"prediction\"])\n",
        "print (\"SIGNAL    \", s)\n",
        "print (\"PREDICTION\", p)\n"
      ]
    },
    {
      "cell_type": "markdown",
      "metadata": {
        "id": "-1tnv2TyDjGG"
      },
      "source": [
        "fill in the `pnl` variable below with a list of 19 values corresponding on applying the same strategy as in the notes, buying or selling always ONE money unit:\n",
        "\n",
        "- if the prediction is zero, we believe the price is going down, so we sell ONE money unit at the current price and buy it at the next instant of time\n",
        "- if the prediction is one, we do the opposite\n",
        "- BUT there is a **commission** of 1%, applied on the instant you make the first operation (which uses the current price)\n",
        "\n",
        "observe that there are 20 signal points, and 19 predictions. \n",
        "\n",
        "you can use your tool of choice (Excel, Python, etc.) to compute your answer\n",
        "\n",
        "**HINT**: Understand each component of the expression for `perfect_prediction` below to try to obtain your answer with Python."
      ]
    },
    {
      "cell_type": "markdown",
      "metadata": {
        "id": "BRroi-jcDjGI"
      },
      "source": [
        "\n",
        "\n",
        "**For instance**: the following signal and predictions:"
      ]
    },
    {
      "cell_type": "code",
      "execution_count": 5,
      "metadata": {
        "id": "hz3s-H-eDjGJ",
        "outputId": "05416d92-7533-445b-b1fc-7c6826adbf2c",
        "colab": {
          "base_uri": "https://localhost:8080/",
          "height": 293
        }
      },
      "outputs": [
        {
          "output_type": "execute_result",
          "data": {
            "image/png": "[encoded data removed]",
            "text/plain": [
              "<IPython.core.display.Image object>"
            ]
          },
          "metadata": {
            "image/png": {
              "width": 600
            }
          },
          "execution_count": 5
        }
      ],
      "source": [
        " \n",
        "from IPython.display import Image\n",
        "Image(\"local/imgs/timeseries-prediction.png\", width=600)\n"
      ]
    },
    {
      "cell_type": "markdown",
      "metadata": {
        "id": "4KVVpQvRDjGK"
      },
      "source": [
        "produce the following set of PNL\n",
        "\n",
        "     2.65 7.86 -0.31 7.48 2.61 2.19 1.33 -2.08 -2.71 -2.88 0.42 -5.39 3.03 1.53 3.45 9.88 10.70 -7.69 -0.60\n",
        "     \n",
        "- at `t=0` the PNL is $(107.06-103.38)\\times 1 - 103.38\\times 1 \\times .01=2.65$, since the prediction was correct\n",
        "- at `t=2` the PNL is $(116.84-115.99)\\times 1 - 115.99\\times 1 \\times .01=-0.31$, since the prediction was correct, BUT the price difference is small and the commission overcomes the profit.\n",
        "- at `t=7` the PNL is $(111.76 - 112.71)\\times1 - 112.71\\times1\\times.01=-2.08$, since the prediction was incorrect\n",
        "\n",
        "\n",
        "in the expressions above, the first term is the net profit or loss, and the second one is due to the commission. Multiplication by $1$ simply signals we are trading ONE unit."
      ]
    },
    {
      "cell_type": "markdown",
      "metadata": {
        "id": "F3MtR3IODjGK"
      },
      "source": [
        "also, observe that the following python code, will generate a perfect prediction signal, which, when applied to our strategy, will result in a list of all positive PNLs."
      ]
    },
    {
      "cell_type": "code",
      "execution_count": 6,
      "metadata": {
        "id": "k-5sUvSgDjGL",
        "outputId": "5c4ecbbf-be15-4800-8b5a-ad20457b9ed4",
        "colab": {
          "base_uri": "https://localhost:8080/"
        }
      },
      "outputs": [
        {
          "output_type": "execute_result",
          "data": {
            "text/plain": [
              "array([1, 0, 1, 0, 0, 0, 0, 1, 0, 0, 1, 1, 1, 0, 0, 1, 0, 1, 0])"
            ]
          },
          "metadata": {},
          "execution_count": 6
        }
      ],
      "source": [
        "perfect_prediction = (s[1:]>s[:-1]).astype(int)\n",
        "perfect_prediction"
      ]
    },
    {
      "cell_type": "markdown",
      "metadata": {
        "id": "wCP0Ut7YDjGM"
      },
      "source": [
        "**CHALLENGE 1** (not mandatory): make your answer in python\n",
        "\n",
        "**hints**:\n",
        "\n",
        "    s[1:]            will give you all elements of s except the first one\n",
        "    s[:-1]           will give you all elements of s except the last one\n",
        "    s[1:] - s[:-1]   will give you the difference of price in one time with respect to the next one\n",
        "    (p-0.5)*2        will convert vector p (containing 0's and 1's) into a vector of -1's and +1's"
      ]
    },
    {
      "cell_type": "code",
      "execution_count": 6,
      "metadata": {
        "id": "dMi5Y8HGDjGN"
      },
      "outputs": [],
      "source": []
    },
    {
      "cell_type": "code",
      "execution_count": 6,
      "metadata": {
        "id": "3mAFpUGtDjGN"
      },
      "outputs": [],
      "source": []
    },
    {
      "cell_type": "markdown",
      "metadata": {
        "id": "0AtYSQZCDjGN"
      },
      "source": [
        "**fill in the following variable**"
      ]
    },
    {
      "cell_type": "markdown",
      "source": [
        "**MI SOLUCIÓN**"
      ],
      "metadata": {
        "id": "QPNnlTr_NPYp"
      }
    },
    {
      "cell_type": "code",
      "execution_count": 12,
      "metadata": {
        "id": "WcZyYAeUDjGO",
        "outputId": "f5c6ed8c-9d97-4288-ed2b-822d7c73cb88",
        "colab": {
          "base_uri": "https://localhost:8080/"
        }
      },
      "outputs": [
        {
          "output_type": "execute_result",
          "data": {
            "text/plain": [
              "[6.16,\n",
              " 1.57,\n",
              " 0.27,\n",
              " -1.14,\n",
              " 13.13,\n",
              " -9.24,\n",
              " 6.09,\n",
              " -1.01,\n",
              " 2.78,\n",
              " -0.4,\n",
              " 5.95,\n",
              " 3.25,\n",
              " 5.2,\n",
              " 0.98,\n",
              " 4.66,\n",
              " 8.06,\n",
              " -5.55,\n",
              " 1.53,\n",
              " 4.75]"
            ]
          },
          "metadata": {},
          "execution_count": 12
        }
      ],
      "source": [
        "#Mi respuesta\n",
        "pnl = []\n",
        "for i in range(19):\n",
        "    if p[i] == 1:\n",
        "        pnl.append(round((s[i + 1] - s[i]) - s[i] * 0.01, 2))\n",
        "    else:\n",
        "        pnl.append(round((s[i] - s[i + 1]) - s[i] * 0.01, 2))\n",
        "pnl"
      ]
    },
    {
      "cell_type": "code",
      "execution_count": 12,
      "metadata": {
        "id": "TlqMkhekDjGP"
      },
      "outputs": [],
      "source": []
    },
    {
      "cell_type": "code",
      "execution_count": 12,
      "metadata": {
        "id": "g-CSdVdNDjGP"
      },
      "outputs": [],
      "source": []
    },
    {
      "cell_type": "markdown",
      "metadata": {
        "id": "IC7yQYzIDjGP"
      },
      "source": [
        "**submit your answer**"
      ]
    },
    {
      "cell_type": "code",
      "execution_count": 13,
      "metadata": {
        "scrolled": false,
        "id": "7Y3pg_LIDjGQ",
        "outputId": "1882f431-f48f-46be-b936-584384c4dd26",
        "colab": {
          "base_uri": "https://localhost:8080/",
          "height": 111
        }
      },
      "outputs": [
        {
          "output_type": "display_data",
          "data": {
            "text/plain": [
              "<IPython.core.display.HTML object>"
            ],
            "text/html": [
              "\n",
              "                    <b>task_01 submitted.</b> <b><font color=\"blue\">your grade is 5</font></b> \n",
              "                    <p/><pre>----- grader message -------</pre><b>correct</b><pre>----------------------------</pre>\n",
              "                    <p/><p/>\n",
              "                    <div style=\"font-size:10px\"><b>SUBMISSION CODE</b> VU78q7FH3TZc6edttML+T3GKbtEt9MyWtQvViZvyONlTvJ5us623e8TzALWiOqcphKdgjYtuU7muvKypBiWo0woFtOczpIPRBlUsVK78zHnHs/bj7Zq3iX2VWp/r/5JZx048A9K3R4N7XKsKSb8gfWvrzyIF4iGDgJ0bXYk+6pk=</div>\n",
              "                    "
            ]
          },
          "metadata": {}
        }
      ],
      "source": [
        "student.submit_task(globals(), task_id=\"task_01\");"
      ]
    },
    {
      "cell_type": "code",
      "execution_count": null,
      "metadata": {
        "id": "2t_4gEOKDjGR"
      },
      "outputs": [],
      "source": []
    },
    {
      "cell_type": "code",
      "execution_count": null,
      "metadata": {
        "id": "goAEVXqlDjGS"
      },
      "outputs": [],
      "source": []
    },
    {
      "cell_type": "markdown",
      "metadata": {
        "id": "2UPiQSOWDjGS"
      },
      "source": [
        "## Task 2: Simulated prediction signal"
      ]
    },
    {
      "cell_type": "markdown",
      "metadata": {
        "id": "fLABcWeYDjGT"
      },
      "source": [
        "given the following signal, produce a synthetic prediction signal with the given percentage of correct predictions.\n",
        "\n",
        "observe that `s` has length 21, but your synthetic prediction will have a length of 20.\n",
        "\n",
        "fill in the variable `prediction`, with a list with 20 zeros or ones, containing a prediction with `acc` correct predictions.\n",
        "\n",
        "for instance, with the following signal\n",
        "\n",
        "        [100.37 102.92 102.69 104.57 105.06  97.9  103.   100.32  97.59 107.07\n",
        "         112.19 106.32 104.14 100.3   97.03 107.28 100.36 100.99 111.48 117.07\n",
        "         126.04]\n",
        "         \n",
        "the following predictions:\n",
        "\n",
        "        p = [1, 0, 1, 0, 0, 1, 1, 1, 1, 1, 1, 0, 0, 1, 1, 0, 0, 1, 0, 0]\n",
        "        \n",
        "produce a trend prediction accuracy of 60% (`acc=0.6`)\n",
        "\n",
        "**HINT**: Do it in Python\n",
        "\n",
        "- use the perfect prediction from the exercise above to start with.\n",
        "- use `np.random.permutation`\n",
        "\n",
        "for instance:"
      ]
    },
    {
      "cell_type": "code",
      "execution_count": 14,
      "metadata": {
        "id": "lT289kXHDjGW",
        "outputId": "0364b150-4e59-4087-c498-2d088f911884",
        "colab": {
          "base_uri": "https://localhost:8080/"
        }
      },
      "outputs": [
        {
          "output_type": "stream",
          "name": "stdout",
          "text": [
            "[1 6 2]\n"
          ]
        },
        {
          "output_type": "execute_result",
          "data": {
            "text/plain": [
              "array([10, 21, 31, 40, 50, 60, 71, 80, 90])"
            ]
          },
          "metadata": {},
          "execution_count": 14
        }
      ],
      "source": [
        " \n",
        "# a list\n",
        "a = np.r_[10,20,30,40,50,60,70,80,90]\n",
        "\n",
        "# 3 positions randomly chosen\n",
        "k = np.random.permutation(len(a)-1)[:3]\n",
        "print (k)\n",
        "\n",
        "# changing the value of the items on those positions\n",
        "a[k] = a[k] + 1\n",
        "a\n"
      ]
    },
    {
      "cell_type": "code",
      "execution_count": 14,
      "metadata": {
        "id": "hA0M6OZODjGW"
      },
      "outputs": [],
      "source": []
    },
    {
      "cell_type": "markdown",
      "metadata": {
        "id": "FvOi8x--DjGW"
      },
      "source": [
        "**your signal and target accuracy to achieve**"
      ]
    },
    {
      "cell_type": "code",
      "execution_count": 15,
      "metadata": {
        "id": "cBHomHt5DjGX",
        "outputId": "3b54b6f3-0fa0-4e67-8a22-1d4c565ff5fb",
        "colab": {
          "base_uri": "https://localhost:8080/"
        }
      },
      "outputs": [
        {
          "output_type": "stream",
          "name": "stdout",
          "text": [
            "YOUR SIGNAL [96.08 93.38 82.11 79.75 78.67 80.58 82.85 81.45 71.06 72.65 78.08 77.11\n",
            " 65.7  60.39 58.64 63.62 64.88 75.55 66.7  70.42 64.28]\n",
            "THE ACCURACY YOUR SYNTHETIC PREDICTIONS MUST ACHIEVE:  0.6\n"
          ]
        }
      ],
      "source": [
        " \n",
        "s = ((np.random.normal(size=21)*5+.5).cumsum()+100).round(2)\n",
        "acc = np.round(np.random.random()*.9+.1, 1)\n",
        "print (\"YOUR SIGNAL\", s)\n",
        "print (\"THE ACCURACY YOUR SYNTHETIC PREDICTIONS MUST ACHIEVE: \", acc)\n"
      ]
    },
    {
      "cell_type": "markdown",
      "source": [
        "**MI SOLUCIÓN**"
      ],
      "metadata": {
        "id": "IaWRBdeLNU29"
      }
    },
    {
      "cell_type": "code",
      "execution_count": 16,
      "metadata": {
        "id": "hZdpTnnYDjGX",
        "outputId": "04a3bd12-9fef-4fc7-d086-22db6aeb0f32",
        "colab": {
          "base_uri": "https://localhost:8080/"
        }
      },
      "outputs": [
        {
          "output_type": "stream",
          "name": "stdout",
          "text": [
            "[0 0 1 1 0 1 1 0 1 0 1 0 0 0 1 1 0 1 1 0]\n"
          ]
        }
      ],
      "source": [
        "#Mi respuesta\n",
        "# Crear una predicción sintética inicial\n",
        "my_synthetic_prediction = np.where(s[:-1] < s[1:], 1, 0)\n",
        "\n",
        "# Calcular el número de elementos que se cambiarán\n",
        "k = np.sort(np.random.permutation(len(my_synthetic_prediction) - 1)[:int(len(my_synthetic_prediction) * (1 - acc))])\n",
        "\n",
        "# Cambiar los elementos seleccionados\n",
        "my_synthetic_prediction[k] = 1 - my_synthetic_prediction[k]\n",
        "\n",
        "print(my_synthetic_prediction)\n"
      ]
    },
    {
      "cell_type": "code",
      "execution_count": null,
      "metadata": {
        "id": "2665dbdZDjGX"
      },
      "outputs": [],
      "source": []
    },
    {
      "cell_type": "markdown",
      "metadata": {
        "id": "EfaGhxn1DjGX"
      },
      "source": [
        "**submit your answer**"
      ]
    },
    {
      "cell_type": "code",
      "execution_count": 19,
      "metadata": {
        "scrolled": true,
        "id": "niEDRxFgDjGY",
        "outputId": "e06bc86c-e60a-496e-f5e9-08069013b82b",
        "colab": {
          "base_uri": "https://localhost:8080/",
          "height": 111
        }
      },
      "outputs": [
        {
          "output_type": "display_data",
          "data": {
            "text/plain": [
              "<IPython.core.display.HTML object>"
            ],
            "text/html": [
              "\n",
              "                    <b>task_02 submitted.</b> <b><font color=\"blue\">your grade is 5</font></b> \n",
              "                    <p/><pre>----- grader message -------</pre><b>correct</b><pre>----------------------------</pre>\n",
              "                    <p/><p/>\n",
              "                    <div style=\"font-size:10px\"><b>SUBMISSION CODE</b> rFxvDhubwuhqDXDusb8TSl0E4JS91cnqmHneEvJPmmXcHZP2d9fSWfwMhWtnmCoSV3uQpwi4/WqqLcx0hXT7v5bQz4AOL9Hjj1mrOR7poIKqQVqjbzqsjqCUXEs2IRtVNFUbKap4I8H9mII2He8mVtqVXwXn7S1dcG59f3wz4kU=</div>\n",
              "                    "
            ]
          },
          "metadata": {}
        }
      ],
      "source": [
        "student.submit_task(globals(), task_id=\"task_02\");"
      ]
    },
    {
      "cell_type": "code",
      "execution_count": null,
      "metadata": {
        "id": "pAnisEc5DjGY"
      },
      "outputs": [],
      "source": []
    },
    {
      "cell_type": "markdown",
      "metadata": {
        "id": "xC4s3V9FDjGY"
      },
      "source": [
        "## Task 3: ML Metric vs Business Metric\n",
        "\n",
        "now, your are given a signal (length=21) and you will have to create \n",
        "\n",
        "- an array of 9 rows x 20 columns with synthetic predictions so that the first row (row number zero in python) has accuracy of 10%, the second has 20%, etc.\n",
        "- a list of 9 numbers containing the PNL of using the synthetic predictions on the above array as input for a trading strategy.\n",
        "\n",
        "for instance, for this signal:\n",
        "\n",
        "    [101.33,  96.75,  98.2 ,  95.3 ,  97.96,  98.75,  92.46,  82.2 , 78.61,  80.  ,  \n",
        "      88.78,  98.72, 103.22, 113.65, 103.89, 107.36, 114.6 , 103.9 , 108.71, 104.2 , 107.8 ]\n",
        "\n",
        "you will have to create the following variables:\n",
        "\n",
        "    pset = np.array([[1, 1, 1, 0, 0, 1, 1, 1, 0, 0, 0, 0, 0, 1, 1, 0, 1, 0, 1, 0],\n",
        "                     [1, 0, 1, 0, 0, 1, 1, 1, 0, 1, 0, 1, 1, 1, 0, 1, 1, 0, 1, 0],\n",
        "                     [1, 0, 0, 0, 0, 0, 1, 1, 0, 1, 0, 1, 0, 1, 0, 1, 1, 0, 0, 0],\n",
        "                     [1, 0, 0, 0, 0, 1, 1, 1, 1, 1, 0, 1, 1, 1, 1, 1, 1, 0, 1, 1],\n",
        "                     [1, 1, 0, 0, 0, 0, 0, 0, 0, 0, 1, 1, 1, 0, 0, 0, 1, 0, 0, 0],\n",
        "                     [0, 1, 0, 1, 1, 1, 0, 0, 1, 1, 0, 0, 1, 1, 0, 0, 1, 1, 0, 0],\n",
        "                     [0, 1, 1, 0, 1, 0, 1, 0, 1, 1, 1, 1, 0, 0, 0, 1, 0, 1, 1, 1],\n",
        "                     [0, 1, 0, 1, 1, 0, 1, 0, 1, 1, 1, 1, 1, 0, 0, 0, 0, 1, 1, 1],\n",
        "                     [0, 1, 0, 0, 1, 0, 0, 0, 1, 1, 1, 1, 1, 0, 1, 1, 0, 0, 0, 1]])\n",
        "\n",
        "    \n",
        "    pnl = np.array([-121.5, -69.44, -62.90, -46.72, -4.08, -19.04, 23.5, 41.0, 77.02])\n",
        "    \n",
        "**NOTE**: Specify your PNL rounded to **TWO** decimal places"
      ]
    },
    {
      "cell_type": "code",
      "execution_count": 20,
      "metadata": {
        "id": "vogH9_b_DjGY",
        "outputId": "f0a07e14-2a7f-4857-d45d-9331006095db",
        "colab": {
          "base_uri": "https://localhost:8080/"
        }
      },
      "outputs": [
        {
          "output_type": "execute_result",
          "data": {
            "text/plain": [
              "array([103.15, 104.53, 103.17, 106.05, 113.17, 116.15, 115.84, 110.45,\n",
              "       112.34, 112.65, 108.79, 113.17, 112.57, 106.1 , 110.35, 111.07,\n",
              "       108.86, 110.44, 117.62, 114.28, 106.87])"
            ]
          },
          "metadata": {},
          "execution_count": 20
        }
      ],
      "source": [
        "s = ((np.random.normal(size=21)*5+.5).cumsum()+100).round(2)\n",
        "s"
      ]
    },
    {
      "cell_type": "markdown",
      "source": [
        "**MI SOLUCIÓN**\n"
      ],
      "metadata": {
        "id": "L4x21D4BM4uO"
      }
    },
    {
      "cell_type": "code",
      "source": [
        "import random\n",
        "\n",
        "def synthetic_prediction(s, acc):\n",
        "    pred = np.zeros(len(s) - 1, dtype=int)\n",
        "    for i in range(len(s) - 1):\n",
        "        if s[i] < s[i + 1]:\n",
        "            pred[i] = 1\n",
        "    n_errors = int(round((1 - acc) * len(pred)))\n",
        "    error_indices = random.sample(range(len(pred)), n_errors)\n",
        "    for i in error_indices:\n",
        "        pred[i] = 1 - pred[i]\n",
        "    return pred"
      ],
      "metadata": {
        "id": "AMB4gAf2LHE_"
      },
      "execution_count": 26,
      "outputs": []
    },
    {
      "cell_type": "code",
      "source": [
        "def profit_and_loss(s, p):\n",
        "  return np.array([round((s[i + 1] - s[i]) - s[i] * 0.01, 2) if p[i] == 1 else round((s[i] - s[i + 1]) - s[i] * 0.01, 2) for i in range(len(p))])     "
      ],
      "metadata": {
        "id": "HE8Uvd-iMbGD"
      },
      "execution_count": 38,
      "outputs": []
    },
    {
      "cell_type": "code",
      "execution_count": 39,
      "metadata": {
        "id": "uUVbzDUjDjGZ",
        "outputId": "a770b98f-1b02-48c3-bffd-6102cbd3bf08",
        "colab": {
          "base_uri": "https://localhost:8080/"
        }
      },
      "outputs": [
        {
          "output_type": "stream",
          "name": "stdout",
          "text": [
            "[-81.34 -63.1  -55.1  -33.8  -12.68 -16.02  14.58  25.2   30.88]\n"
          ]
        }
      ],
      "source": [
        "# a 9x20 numpy array\n",
        "pset = np.array([synthetic_prediction(s, round(i * 0.1, 1)) for i in range(1, 10)])\n",
        "\n",
        "# 9 elements numpy array or list\n",
        "pnl = np.array([round(np.sum(profit_and_loss(s, i)), 2) for i in pset])\n",
        "\n",
        "a = [np.sum(profit_and_loss(s, pset[i])) for i in range(len(pset))]\n",
        "\n",
        "print(np.array(a))"
      ]
    },
    {
      "cell_type": "code",
      "execution_count": null,
      "metadata": {
        "id": "S2O1-U52DjGZ"
      },
      "outputs": [],
      "source": []
    },
    {
      "cell_type": "markdown",
      "metadata": {
        "id": "Y0fYgS9VDjGa"
      },
      "source": [
        "**submit your answer**"
      ]
    },
    {
      "cell_type": "code",
      "execution_count": 41,
      "metadata": {
        "scrolled": true,
        "id": "Z5hkJEsvDjGa",
        "outputId": "488e6e29-52c8-4482-c404-6ae8a7e5f4cd",
        "colab": {
          "base_uri": "https://localhost:8080/",
          "height": 111
        }
      },
      "outputs": [
        {
          "output_type": "display_data",
          "data": {
            "text/plain": [
              "<IPython.core.display.HTML object>"
            ],
            "text/html": [
              "\n",
              "                    <b>task_03 submitted.</b> <b><font color=\"blue\">your grade is 5</font></b> \n",
              "                    <p/><pre>----- grader message -------</pre><b>correct</b><pre>----------------------------</pre>\n",
              "                    <p/><p/>\n",
              "                    <div style=\"font-size:10px\"><b>SUBMISSION CODE</b> vViG40uAUmYCRxUr+ebl9o3UjoOE2DGGlR/z+ZWPwF/FQKLe15neb9AreYSBECd8FLLemrzOFUmo9baGT1HGiPT4cwUPaY0gUd6xa3lyKB3b7DvdFZb95FS/pJthy844xKYAlrpfpX/MBuBdgRsrxgKVdgyOykBlwiyJnO5yQbM=</div>\n",
              "                    "
            ]
          },
          "metadata": {}
        }
      ],
      "source": [
        "student.submit_task(globals(), task_id=\"task_03\");"
      ]
    },
    {
      "cell_type": "code",
      "execution_count": null,
      "metadata": {
        "id": "ZQmaD_LGDjGa"
      },
      "outputs": [],
      "source": []
    },
    {
      "cell_type": "markdown",
      "metadata": {
        "id": "P-5fSGoRDjGa"
      },
      "source": [
        "### understand accuracy vs. PNL\n",
        "\n",
        "- what is the minimum accuracy from which a model might be profitable?\n",
        "- and if the commision changes?"
      ]
    },
    {
      "cell_type": "code",
      "execution_count": 42,
      "metadata": {
        "id": "8nDozDToDjGb",
        "outputId": "1a98735c-5a74-485e-d80e-ec2a111fae58",
        "colab": {
          "base_uri": "https://localhost:8080/",
          "height": 489
        }
      },
      "outputs": [
        {
          "output_type": "execute_result",
          "data": {
            "text/plain": [
              "Text(0, 0.5, 'PNL')"
            ]
          },
          "metadata": {},
          "execution_count": 42
        },
        {
          "output_type": "display_data",
          "data": {
            "text/plain": [
              "<Figure size 640x480 with 1 Axes>"
            ],
            "image/png": "[encoded data removed]"
          },
          "metadata": {}
        }
      ],
      "source": [
        " \n",
        "accuracies = np.linspace(.1,.9,9)\n",
        "plt.plot(accuracies, pnl)\n",
        "plt.axhline(0, color=\"black\", lw=2)\n",
        "plt.title(\"ML metric vs. Busines metric\")\n",
        "plt.grid(); plt.xlabel(\"model accuracy\"); plt.ylabel(\"PNL\")\n"
      ]
    },
    {
      "cell_type": "code",
      "execution_count": null,
      "metadata": {
        "id": "iiJUMzWbDjGb"
      },
      "outputs": [],
      "source": []
    }
  ],
  "metadata": {
    "kernelspec": {
      "display_name": "Python 3",
      "language": "python",
      "name": "python3"
    },
    "language_info": {
      "codemirror_mode": {
        "name": "ipython",
        "version": 3
      },
      "file_extension": ".py",
      "mimetype": "text/x-python",
      "name": "python",
      "nbconvert_exporter": "python",
      "pygments_lexer": "ipython3",
      "version": "3.7.3"
    },
    "colab": {
      "provenance": [],
      "include_colab_link": true
    },
    "widgets": {
      "application/vnd.jupyter.widget-state+json": {
        "7e1059800f8e46939d9cd6f4aed993c8": {
          "model_module": "@jupyter-widgets/controls",
          "model_name": "HBoxModel",
          "model_module_version": "1.5.0",
          "state": {
            "_dom_classes": [],
            "_model_module": "@jupyter-widgets/controls",
            "_model_module_version": "1.5.0",
            "_model_name": "HBoxModel",
            "_view_count": null,
            "_view_module": "@jupyter-widgets/controls",
            "_view_module_version": "1.5.0",
            "_view_name": "HBoxView",
            "box_style": "",
            "children": [
              "IPY_MODEL_8b6fe4d601a64d6fa8d1316884be1a93",
              "IPY_MODEL_6e532ee61610408fb3a176a96ecf1f0a",
              "IPY_MODEL_656fd80ecf614608afa9b3c78f010516",
              "IPY_MODEL_8defb13c90d54220afed376faf8437c3"
            ],
            "layout": "IPY_MODEL_a835f511ac7d4a59a1ec14e741eecc46"
          }
        },
        "8b6fe4d601a64d6fa8d1316884be1a93": {
          "model_module": "@jupyter-widgets/controls",
          "model_name": "VBoxModel",
          "model_module_version": "1.5.0",
          "state": {
            "_dom_classes": [],
            "_model_module": "@jupyter-widgets/controls",
            "_model_module_version": "1.5.0",
            "_model_name": "VBoxModel",
            "_view_count": null,
            "_view_module": "@jupyter-widgets/controls",
            "_view_module_version": "1.5.0",
            "_view_name": "VBoxView",
            "box_style": "",
            "children": [
              "IPY_MODEL_1f59aab7733041288430aa6d41fbcb91",
              "IPY_MODEL_09552b9c263e4f44bf34a966b3e88ac4"
            ],
            "layout": "IPY_MODEL_49df93db666f4491a4ecb183a7d03ee7"
          }
        },
        "6e532ee61610408fb3a176a96ecf1f0a": {
          "model_module": "@jupyter-widgets/controls",
          "model_name": "ButtonModel",
          "model_module_version": "1.5.0",
          "state": {
            "_dom_classes": [
              "login_button"
            ],
            "_model_module": "@jupyter-widgets/controls",
            "_model_module_version": "1.5.0",
            "_model_name": "ButtonModel",
            "_view_count": null,
            "_view_module": "@jupyter-widgets/controls",
            "_view_module_version": "1.5.0",
            "_view_name": "ButtonView",
            "button_style": "",
            "description": "Login with email",
            "disabled": false,
            "icon": "",
            "layout": "IPY_MODEL_fe2a274f4e1345da98f375cc614baef8",
            "style": "IPY_MODEL_af961be7b5a24ca5aa2b751abe702cb6",
            "tooltip": ""
          }
        },
        "656fd80ecf614608afa9b3c78f010516": {
          "model_module": "@jupyter-widgets/controls",
          "model_name": "HTMLModel",
          "model_module_version": "1.5.0",
          "state": {
            "_dom_classes": [],
            "_model_module": "@jupyter-widgets/controls",
            "_model_module_version": "1.5.0",
            "_model_name": "HTMLModel",
            "_view_count": null,
            "_view_module": "@jupyter-widgets/controls",
            "_view_module_version": "1.5.0",
            "_view_name": "HTMLView",
            "description": "",
            "description_tooltip": null,
            "layout": "IPY_MODEL_44af147594884a5fb31e565d81c81770",
            "placeholder": "​",
            "style": "IPY_MODEL_7462cafde7d84dbba3d6beff979011ec",
            "value": "<center><big>or</big></center>"
          }
        },
        "8defb13c90d54220afed376faf8437c3": {
          "model_module": "@jupyter-widgets/controls",
          "model_name": "ButtonModel",
          "model_module_version": "1.5.0",
          "state": {
            "_dom_classes": [
              "google_button"
            ],
            "_model_module": "@jupyter-widgets/controls",
            "_model_module_version": "1.5.0",
            "_model_name": "ButtonModel",
            "_view_count": null,
            "_view_module": "@jupyter-widgets/controls",
            "_view_module_version": "1.5.0",
            "_view_name": "ButtonView",
            "button_style": "",
            "description": "Login with Google",
            "disabled": false,
            "icon": "",
            "layout": "IPY_MODEL_3f8195bf9b834a1c9a7c92110e299191",
            "style": "IPY_MODEL_e5020727b4bd4304a74947756244bc80",
            "tooltip": ""
          }
        },
        "a835f511ac7d4a59a1ec14e741eecc46": {
          "model_module": "@jupyter-widgets/base",
          "model_name": "LayoutModel",
          "model_module_version": "1.2.0",
          "state": {
            "_model_module": "@jupyter-widgets/base",
            "_model_module_version": "1.2.0",
            "_model_name": "LayoutModel",
            "_view_count": null,
            "_view_module": "@jupyter-widgets/base",
            "_view_module_version": "1.2.0",
            "_view_name": "LayoutView",
            "align_content": null,
            "align_items": null,
            "align_self": null,
            "border": null,
            "bottom": null,
            "display": null,
            "flex": null,
            "flex_flow": null,
            "grid_area": null,
            "grid_auto_columns": null,
            "grid_auto_flow": null,
            "grid_auto_rows": null,
            "grid_column": null,
            "grid_gap": null,
            "grid_row": null,
            "grid_template_areas": null,
            "grid_template_columns": null,
            "grid_template_rows": null,
            "height": null,
            "justify_content": null,
            "justify_items": null,
            "left": null,
            "margin": null,
            "max_height": null,
            "max_width": null,
            "min_height": null,
            "min_width": null,
            "object_fit": null,
            "object_position": null,
            "order": null,
            "overflow": null,
            "overflow_x": null,
            "overflow_y": null,
            "padding": null,
            "right": null,
            "top": null,
            "visibility": null,
            "width": null
          }
        },
        "1f59aab7733041288430aa6d41fbcb91": {
          "model_module": "@jupyter-widgets/controls",
          "model_name": "TextModel",
          "model_module_version": "1.5.0",
          "state": {
            "_dom_classes": [],
            "_model_module": "@jupyter-widgets/controls",
            "_model_module_version": "1.5.0",
            "_model_name": "TextModel",
            "_view_count": null,
            "_view_module": "@jupyter-widgets/controls",
            "_view_module_version": "1.5.0",
            "_view_name": "TextView",
            "continuous_update": true,
            "description": "email",
            "description_tooltip": null,
            "disabled": false,
            "layout": "IPY_MODEL_5fc7fa75942148fba5211e850b13b03d",
            "placeholder": "​",
            "style": "IPY_MODEL_cf1ecd77b1594f2593baf9f5bf759660",
            "value": ""
          }
        },
        "09552b9c263e4f44bf34a966b3e88ac4": {
          "model_module": "@jupyter-widgets/controls",
          "model_name": "PasswordModel",
          "model_module_version": "1.5.0",
          "state": {
            "_dom_classes": [],
            "_model_module": "@jupyter-widgets/controls",
            "_model_module_version": "1.5.0",
            "_model_name": "PasswordModel",
            "_view_count": null,
            "_view_module": "@jupyter-widgets/controls",
            "_view_module_version": "1.5.0",
            "_view_name": "PasswordView",
            "continuous_update": true,
            "description": "password",
            "description_tooltip": null,
            "disabled": false,
            "layout": "IPY_MODEL_860241a3b3994a139bdd5bf332cf960d",
            "placeholder": "​",
            "style": "IPY_MODEL_440f73572168404dafbe9321e7fb36ae",
            "value": ""
          }
        },
        "49df93db666f4491a4ecb183a7d03ee7": {
          "model_module": "@jupyter-widgets/base",
          "model_name": "LayoutModel",
          "model_module_version": "1.2.0",
          "state": {
            "_model_module": "@jupyter-widgets/base",
            "_model_module_version": "1.2.0",
            "_model_name": "LayoutModel",
            "_view_count": null,
            "_view_module": "@jupyter-widgets/base",
            "_view_module_version": "1.2.0",
            "_view_name": "LayoutView",
            "align_content": null,
            "align_items": null,
            "align_self": null,
            "border": null,
            "bottom": null,
            "display": null,
            "flex": null,
            "flex_flow": null,
            "grid_area": null,
            "grid_auto_columns": null,
            "grid_auto_flow": null,
            "grid_auto_rows": null,
            "grid_column": null,
            "grid_gap": null,
            "grid_row": null,
            "grid_template_areas": null,
            "grid_template_columns": null,
            "grid_template_rows": null,
            "height": null,
            "justify_content": null,
            "justify_items": null,
            "left": null,
            "margin": null,
            "max_height": null,
            "max_width": null,
            "min_height": null,
            "min_width": null,
            "object_fit": null,
            "object_position": null,
            "order": null,
            "overflow": null,
            "overflow_x": null,
            "overflow_y": null,
            "padding": null,
            "right": null,
            "top": null,
            "visibility": null,
            "width": null
          }
        },
        "fe2a274f4e1345da98f375cc614baef8": {
          "model_module": "@jupyter-widgets/base",
          "model_name": "LayoutModel",
          "model_module_version": "1.2.0",
          "state": {
            "_model_module": "@jupyter-widgets/base",
            "_model_module_version": "1.2.0",
            "_model_name": "LayoutModel",
            "_view_count": null,
            "_view_module": "@jupyter-widgets/base",
            "_view_module_version": "1.2.0",
            "_view_name": "LayoutView",
            "align_content": null,
            "align_items": null,
            "align_self": null,
            "border": null,
            "bottom": null,
            "display": null,
            "flex": null,
            "flex_flow": null,
            "grid_area": null,
            "grid_auto_columns": null,
            "grid_auto_flow": null,
            "grid_auto_rows": null,
            "grid_column": null,
            "grid_gap": null,
            "grid_row": null,
            "grid_template_areas": null,
            "grid_template_columns": null,
            "grid_template_rows": null,
            "height": "53px",
            "justify_content": null,
            "justify_items": null,
            "left": null,
            "margin": null,
            "max_height": null,
            "max_width": null,
            "min_height": null,
            "min_width": null,
            "object_fit": null,
            "object_position": null,
            "order": null,
            "overflow": null,
            "overflow_x": null,
            "overflow_y": null,
            "padding": null,
            "right": null,
            "top": null,
            "visibility": null,
            "width": "150px"
          }
        },
        "af961be7b5a24ca5aa2b751abe702cb6": {
          "model_module": "@jupyter-widgets/controls",
          "model_name": "ButtonStyleModel",
          "model_module_version": "1.5.0",
          "state": {
            "_model_module": "@jupyter-widgets/controls",
            "_model_module_version": "1.5.0",
            "_model_name": "ButtonStyleModel",
            "_view_count": null,
            "_view_module": "@jupyter-widgets/base",
            "_view_module_version": "1.2.0",
            "_view_name": "StyleView",
            "button_color": null,
            "font_weight": ""
          }
        },
        "44af147594884a5fb31e565d81c81770": {
          "model_module": "@jupyter-widgets/base",
          "model_name": "LayoutModel",
          "model_module_version": "1.2.0",
          "state": {
            "_model_module": "@jupyter-widgets/base",
            "_model_module_version": "1.2.0",
            "_model_name": "LayoutModel",
            "_view_count": null,
            "_view_module": "@jupyter-widgets/base",
            "_view_module_version": "1.2.0",
            "_view_name": "LayoutView",
            "align_content": null,
            "align_items": null,
            "align_self": null,
            "border": null,
            "bottom": null,
            "display": null,
            "flex": null,
            "flex_flow": null,
            "grid_area": null,
            "grid_auto_columns": null,
            "grid_auto_flow": null,
            "grid_auto_rows": null,
            "grid_column": null,
            "grid_gap": null,
            "grid_row": null,
            "grid_template_areas": null,
            "grid_template_columns": null,
            "grid_template_rows": null,
            "height": null,
            "justify_content": null,
            "justify_items": null,
            "left": null,
            "margin": null,
            "max_height": null,
            "max_width": null,
            "min_height": null,
            "min_width": null,
            "object_fit": null,
            "object_position": null,
            "order": null,
            "overflow": null,
            "overflow_x": null,
            "overflow_y": null,
            "padding": null,
            "right": null,
            "top": null,
            "visibility": null,
            "width": "100px"
          }
        },
        "7462cafde7d84dbba3d6beff979011ec": {
          "model_module": "@jupyter-widgets/controls",
          "model_name": "DescriptionStyleModel",
          "model_module_version": "1.5.0",
          "state": {
            "_model_module": "@jupyter-widgets/controls",
            "_model_module_version": "1.5.0",
            "_model_name": "DescriptionStyleModel",
            "_view_count": null,
            "_view_module": "@jupyter-widgets/base",
            "_view_module_version": "1.2.0",
            "_view_name": "StyleView",
            "description_width": ""
          }
        },
        "3f8195bf9b834a1c9a7c92110e299191": {
          "model_module": "@jupyter-widgets/base",
          "model_name": "LayoutModel",
          "model_module_version": "1.2.0",
          "state": {
            "_model_module": "@jupyter-widgets/base",
            "_model_module_version": "1.2.0",
            "_model_name": "LayoutModel",
            "_view_count": null,
            "_view_module": "@jupyter-widgets/base",
            "_view_module_version": "1.2.0",
            "_view_name": "LayoutView",
            "align_content": null,
            "align_items": null,
            "align_self": null,
            "border": null,
            "bottom": null,
            "display": null,
            "flex": null,
            "flex_flow": null,
            "grid_area": null,
            "grid_auto_columns": null,
            "grid_auto_flow": null,
            "grid_auto_rows": null,
            "grid_column": null,
            "grid_gap": null,
            "grid_row": null,
            "grid_template_areas": null,
            "grid_template_columns": null,
            "grid_template_rows": null,
            "height": "53px",
            "justify_content": null,
            "justify_items": null,
            "left": null,
            "margin": null,
            "max_height": null,
            "max_width": null,
            "min_height": null,
            "min_width": null,
            "object_fit": null,
            "object_position": null,
            "order": null,
            "overflow": null,
            "overflow_x": null,
            "overflow_y": null,
            "padding": null,
            "right": null,
            "top": null,
            "visibility": null,
            "width": "200px"
          }
        },
        "e5020727b4bd4304a74947756244bc80": {
          "model_module": "@jupyter-widgets/controls",
          "model_name": "ButtonStyleModel",
          "model_module_version": "1.5.0",
          "state": {
            "_model_module": "@jupyter-widgets/controls",
            "_model_module_version": "1.5.0",
            "_model_name": "ButtonStyleModel",
            "_view_count": null,
            "_view_module": "@jupyter-widgets/base",
            "_view_module_version": "1.2.0",
            "_view_name": "StyleView",
            "button_color": null,
            "font_weight": ""
          }
        },
        "5fc7fa75942148fba5211e850b13b03d": {
          "model_module": "@jupyter-widgets/base",
          "model_name": "LayoutModel",
          "model_module_version": "1.2.0",
          "state": {
            "_model_module": "@jupyter-widgets/base",
            "_model_module_version": "1.2.0",
            "_model_name": "LayoutModel",
            "_view_count": null,
            "_view_module": "@jupyter-widgets/base",
            "_view_module_version": "1.2.0",
            "_view_name": "LayoutView",
            "align_content": null,
            "align_items": null,
            "align_self": null,
            "border": null,
            "bottom": null,
            "display": null,
            "flex": null,
            "flex_flow": null,
            "grid_area": null,
            "grid_auto_columns": null,
            "grid_auto_flow": null,
            "grid_auto_rows": null,
            "grid_column": null,
            "grid_gap": null,
            "grid_row": null,
            "grid_template_areas": null,
            "grid_template_columns": null,
            "grid_template_rows": null,
            "height": "25px",
            "justify_content": null,
            "justify_items": null,
            "left": null,
            "margin": null,
            "max_height": null,
            "max_width": null,
            "min_height": null,
            "min_width": null,
            "object_fit": null,
            "object_position": null,
            "order": null,
            "overflow": null,
            "overflow_x": null,
            "overflow_y": null,
            "padding": null,
            "right": null,
            "top": null,
            "visibility": null,
            "width": "300px"
          }
        },
        "cf1ecd77b1594f2593baf9f5bf759660": {
          "model_module": "@jupyter-widgets/controls",
          "model_name": "DescriptionStyleModel",
          "model_module_version": "1.5.0",
          "state": {
            "_model_module": "@jupyter-widgets/controls",
            "_model_module_version": "1.5.0",
            "_model_name": "DescriptionStyleModel",
            "_view_count": null,
            "_view_module": "@jupyter-widgets/base",
            "_view_module_version": "1.2.0",
            "_view_name": "StyleView",
            "description_width": ""
          }
        },
        "860241a3b3994a139bdd5bf332cf960d": {
          "model_module": "@jupyter-widgets/base",
          "model_name": "LayoutModel",
          "model_module_version": "1.2.0",
          "state": {
            "_model_module": "@jupyter-widgets/base",
            "_model_module_version": "1.2.0",
            "_model_name": "LayoutModel",
            "_view_count": null,
            "_view_module": "@jupyter-widgets/base",
            "_view_module_version": "1.2.0",
            "_view_name": "LayoutView",
            "align_content": null,
            "align_items": null,
            "align_self": null,
            "border": null,
            "bottom": null,
            "display": null,
            "flex": null,
            "flex_flow": null,
            "grid_area": null,
            "grid_auto_columns": null,
            "grid_auto_flow": null,
            "grid_auto_rows": null,
            "grid_column": null,
            "grid_gap": null,
            "grid_row": null,
            "grid_template_areas": null,
            "grid_template_columns": null,
            "grid_template_rows": null,
            "height": "24px",
            "justify_content": null,
            "justify_items": null,
            "left": null,
            "margin": null,
            "max_height": null,
            "max_width": null,
            "min_height": null,
            "min_width": null,
            "object_fit": null,
            "object_position": null,
            "order": null,
            "overflow": null,
            "overflow_x": null,
            "overflow_y": null,
            "padding": null,
            "right": null,
            "top": null,
            "visibility": null,
            "width": "300px"
          }
        },
        "440f73572168404dafbe9321e7fb36ae": {
          "model_module": "@jupyter-widgets/controls",
          "model_name": "DescriptionStyleModel",
          "model_module_version": "1.5.0",
          "state": {
            "_model_module": "@jupyter-widgets/controls",
            "_model_module_version": "1.5.0",
            "_model_name": "DescriptionStyleModel",
            "_view_count": null,
            "_view_module": "@jupyter-widgets/base",
            "_view_module_version": "1.2.0",
            "_view_name": "StyleView",
            "description_width": ""
          }
        }
      }
    }
  },
  "nbformat": 4,
  "nbformat_minor": 0
}