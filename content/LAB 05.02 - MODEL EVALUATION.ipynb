{
  "cells": [
    {
      "cell_type": "markdown",
      "metadata": {
        "id": "view-in-github",
        "colab_type": "text"
      },
      "source": [
        "<a href=\"https://colab.research.google.com/github/danielapavas/Labs-IA/blob/main/content/LAB%2005.02%20-%20MODEL%20EVALUATION.ipynb\" target=\"_parent\"><img src=\"https://colab.research.google.com/assets/colab-badge.svg\" alt=\"Open In Colab\"/></a>"
      ]
    },
    {
      "cell_type": "markdown",
      "metadata": {
        "id": "0TyC68U5O0eD"
      },
      "source": [
        "# LAB 05.02 - Model evaluation"
      ]
    },
    {
      "cell_type": "code",
      "execution_count": 1,
      "metadata": {
        "id": "O591deBfO0eL",
        "outputId": "0cec9703-0ba8-45e9-93b2-6634964e178e",
        "colab": {
          "base_uri": "https://localhost:8080/",
          "height": 75
        }
      },
      "outputs": [
        {
          "output_type": "display_data",
          "data": {
            "text/plain": [
              "<IPython.core.display.HTML object>"
            ],
            "text/html": [
              "\n",
              "<meta name=\"google-signin-client_id\"\n",
              "      content=\"461673936472-kdjosv61up3ac1ajeuq6qqu72upilmls.apps.googleusercontent.com\"/>\n",
              "<script src=\"https://apis.google.com/js/client:platform.js?onload=google_button_start\"></script>\n",
              "    "
            ]
          },
          "metadata": {}
        },
        {
          "output_type": "stream",
          "name": "stdout",
          "text": [
            "replicating local resources\n"
          ]
        },
        {
          "output_type": "execute_result",
          "data": {
            "text/plain": [
              "<IPython.core.display.HTML object>"
            ],
            "text/html": [
              "<h3>See <a href='https://m5knaekxo6.execute-api.us-west-2.amazonaws.com/dev-v0001/rlxmooc/web/login' target='_blank'>my courses and progress</a></h2>"
            ]
          },
          "metadata": {},
          "execution_count": 1
        }
      ],
      "source": [
        "!wget --no-cache -O init.py -q https://raw.githubusercontent.com/rramosp/ai4eng.v1/main/content/init.py\n",
        "import init; init.init(force_download=False); init.get_weblink()\n"
      ]
    },
    {
      "cell_type": "code",
      "execution_count": 90,
      "metadata": {
        "id": "4XHKfS4qO0eO",
        "outputId": "51658c48-5a68-4af2-ad76-741dd1b4f4ed",
        "colab": {
          "base_uri": "https://localhost:8080/",
          "height": 138,
          "referenced_widgets": [
            "1bb928c0a5464ff18832f64bf0f718f6",
            "f033462d7a77407a94bf4c046fee6644",
            "f3c323e716ee46e98d8e586b3a937362",
            "bfcf010c6a5d472db408c2be1d3108a6",
            "6e24eb6f9038438ab833cc94166bd27d",
            "a84359afc14144628fa872ce1b50262d",
            "197344e4b665401a8caadc812c7d1b37",
            "2e416b597a9c4170ab5ec7f83d7dbc56",
            "77e232b037894461a2a160976aa7d96b",
            "69c569a8b7eb42ddb5035b00afdc75db",
            "b9d5214c125540f0935c60cdc9de680b",
            "001923d0bf024564a7524fad466935ba",
            "5b71c6efcbcb49b1942ce1dab2f3670f",
            "03e92336a70d40c6b63779d51993aadd",
            "2c38781224464ddf9dd09ac7cc2f541c",
            "3644fc2b5f22403981635ca217b31a7d",
            "5aa788c3e1934f3daae36102795306ff",
            "ee3920db250a4f4b8f56cd6180cbfbc1",
            "a2882151d3244cd49a015c61bb0b4ab9"
          ]
        }
      },
      "outputs": [
        {
          "output_type": "stream",
          "name": "stdout",
          "text": [
            "logging in as daniela.pavas1@udea.edu.co... please wait\n",
            "using course session ai4eng.v1.udea.r2::2023.1\n",
            "success!! you are logged in\n"
          ]
        }
      ],
      "source": [
        "from local.lib.rlxmoocapi import submit, session\n",
        "session.LoginSequence(endpoint=init.endpoint, course_id=init.course_id, lab_id=\"L05.02\", varname=\"student\");"
      ]
    },
    {
      "cell_type": "markdown",
      "metadata": {
        "id": "V6Ym2suLO0eO"
      },
      "source": [
        "## Task 1: Partition randomly `numpy` arrays\n",
        "\n",
        "observe we can select specific rows and/or columns on a numpy array"
      ]
    },
    {
      "cell_type": "code",
      "execution_count": 3,
      "metadata": {
        "id": "vuuZXwS9O0eP",
        "outputId": "514f316c-d764-4af4-cd07-b109d955e992",
        "colab": {
          "base_uri": "https://localhost:8080/"
        }
      },
      "outputs": [
        {
          "output_type": "execute_result",
          "data": {
            "text/plain": [
              "array([[ 0,  1,  2,  3,  4],\n",
              "       [ 1, 21,  1, 91, 20],\n",
              "       [ 2, 34, 19, 15, 43],\n",
              "       [ 3, 90, 37, 46,  3],\n",
              "       [ 4,  1, 43, 41, 39],\n",
              "       [ 5, 88, 78, 24, 26],\n",
              "       [ 6,  2, 94, 80, 83],\n",
              "       [ 7,  9,  1, 16, 98],\n",
              "       [ 8, 57, 11, 73, 42],\n",
              "       [ 9, 33, 92, 85, 41],\n",
              "       [10, 75, 48, 40,  0],\n",
              "       [11, 35, 89, 94, 43],\n",
              "       [12,  5, 27, 43, 99],\n",
              "       [13, 62,  7, 87, 26],\n",
              "       [14, 59, 79, 71, 51],\n",
              "       [15, 10, 55, 13, 26],\n",
              "       [16, 23, 72, 73, 38],\n",
              "       [17, 45, 83, 50, 66],\n",
              "       [18, 14, 13,  2, 50],\n",
              "       [19, 74, 91, 68, 95]])"
            ]
          },
          "metadata": {},
          "execution_count": 3
        }
      ],
      "source": [
        "import numpy as np\n",
        "\n",
        "x = np.random.randint(100, size=(20,5))\n",
        "x[:,0] = range(len(x))\n",
        "x[0,:] = range(x.shape[1])\n",
        "x"
      ]
    },
    {
      "cell_type": "code",
      "execution_count": 4,
      "metadata": {
        "id": "o7STZxC1O0eP",
        "outputId": "1ca8721a-5c3a-4ec8-fc5a-224a5fc2ef85",
        "colab": {
          "base_uri": "https://localhost:8080/"
        }
      },
      "outputs": [
        {
          "output_type": "execute_result",
          "data": {
            "text/plain": [
              "array([[ 2, 34, 19, 15, 43],\n",
              "       [ 4,  1, 43, 41, 39],\n",
              "       [ 5, 88, 78, 24, 26]])"
            ]
          },
          "metadata": {},
          "execution_count": 4
        }
      ],
      "source": [
        "ridxs = np.r_[2,4,5]\n",
        "x[ridxs]"
      ]
    },
    {
      "cell_type": "code",
      "execution_count": 5,
      "metadata": {
        "id": "7LCGlMlSO0eQ",
        "outputId": "2fb7149c-4434-484f-8f56-e517ada79c86",
        "colab": {
          "base_uri": "https://localhost:8080/"
        }
      },
      "outputs": [
        {
          "output_type": "execute_result",
          "data": {
            "text/plain": [
              "array([[ 1,  3],\n",
              "       [21, 91],\n",
              "       [34, 15],\n",
              "       [90, 46],\n",
              "       [ 1, 41],\n",
              "       [88, 24],\n",
              "       [ 2, 80],\n",
              "       [ 9, 16],\n",
              "       [57, 73],\n",
              "       [33, 85],\n",
              "       [75, 40],\n",
              "       [35, 94],\n",
              "       [ 5, 43],\n",
              "       [62, 87],\n",
              "       [59, 71],\n",
              "       [10, 13],\n",
              "       [23, 73],\n",
              "       [45, 50],\n",
              "       [14,  2],\n",
              "       [74, 68]])"
            ]
          },
          "metadata": {},
          "execution_count": 5
        }
      ],
      "source": [
        "cidxs = np.r_[1,3]\n",
        "x[:,cidxs]"
      ]
    },
    {
      "cell_type": "code",
      "execution_count": 6,
      "metadata": {
        "id": "X_edhDfsO0eR",
        "outputId": "a3050819-dc9c-40db-afe5-f994eb85b5f8",
        "colab": {
          "base_uri": "https://localhost:8080/"
        }
      },
      "outputs": [
        {
          "output_type": "execute_result",
          "data": {
            "text/plain": [
              "array([[34, 15],\n",
              "       [ 1, 41],\n",
              "       [88, 24]])"
            ]
          },
          "metadata": {},
          "execution_count": 6
        }
      ],
      "source": [
        "x[ridxs][:, cidxs]"
      ]
    },
    {
      "cell_type": "markdown",
      "metadata": {
        "id": "czBnKje7O0eR"
      },
      "source": [
        "and the dimensions of the array are accessible through `len` and `shape`"
      ]
    },
    {
      "cell_type": "code",
      "execution_count": 7,
      "metadata": {
        "id": "ctRD6BbTO0eS",
        "outputId": "bcbfadac-e88b-42b1-ae44-147c25dcb43d",
        "colab": {
          "base_uri": "https://localhost:8080/"
        }
      },
      "outputs": [
        {
          "output_type": "execute_result",
          "data": {
            "text/plain": [
              "(20, (20, 5))"
            ]
          },
          "metadata": {},
          "execution_count": 7
        }
      ],
      "source": [
        "len(x), x.shape"
      ]
    },
    {
      "cell_type": "markdown",
      "metadata": {
        "id": "E2eSP8AsO0eS"
      },
      "source": [
        "observe also how we can partition it"
      ]
    },
    {
      "cell_type": "code",
      "execution_count": 8,
      "metadata": {
        "id": "HUWraj1oO0eT",
        "outputId": "f042307a-d135-4912-e310-c406b58c6cca",
        "colab": {
          "base_uri": "https://localhost:8080/"
        }
      },
      "outputs": [
        {
          "output_type": "execute_result",
          "data": {
            "text/plain": [
              "array([[ 0,  1,  2,  3,  4],\n",
              "       [ 1, 21,  1, 91, 20],\n",
              "       [ 2, 34, 19, 15, 43]])"
            ]
          },
          "metadata": {},
          "execution_count": 8
        }
      ],
      "source": [
        "x[:3]"
      ]
    },
    {
      "cell_type": "code",
      "execution_count": 9,
      "metadata": {
        "id": "hDK3372fO0eU",
        "outputId": "924d2d49-e5c5-4058-9567-b1fae74fd72c",
        "colab": {
          "base_uri": "https://localhost:8080/"
        }
      },
      "outputs": [
        {
          "output_type": "execute_result",
          "data": {
            "text/plain": [
              "array([[ 3, 90, 37, 46,  3],\n",
              "       [ 4,  1, 43, 41, 39],\n",
              "       [ 5, 88, 78, 24, 26],\n",
              "       [ 6,  2, 94, 80, 83],\n",
              "       [ 7,  9,  1, 16, 98],\n",
              "       [ 8, 57, 11, 73, 42],\n",
              "       [ 9, 33, 92, 85, 41],\n",
              "       [10, 75, 48, 40,  0],\n",
              "       [11, 35, 89, 94, 43],\n",
              "       [12,  5, 27, 43, 99],\n",
              "       [13, 62,  7, 87, 26],\n",
              "       [14, 59, 79, 71, 51],\n",
              "       [15, 10, 55, 13, 26],\n",
              "       [16, 23, 72, 73, 38],\n",
              "       [17, 45, 83, 50, 66],\n",
              "       [18, 14, 13,  2, 50],\n",
              "       [19, 74, 91, 68, 95]])"
            ]
          },
          "metadata": {},
          "execution_count": 9
        }
      ],
      "source": [
        "x[3:]"
      ]
    },
    {
      "cell_type": "markdown",
      "metadata": {
        "id": "q3vhOYcfO0eU"
      },
      "source": [
        "we can do the same thing with vectors"
      ]
    },
    {
      "cell_type": "code",
      "execution_count": 10,
      "metadata": {
        "id": "vTVVqx2qO0eV",
        "outputId": "277595b7-20b8-442f-e696-0d7e140cbc09",
        "colab": {
          "base_uri": "https://localhost:8080/"
        }
      },
      "outputs": [
        {
          "output_type": "execute_result",
          "data": {
            "text/plain": [
              "array([100, 101, 102, 103, 104, 105, 106, 107, 108, 109, 110, 111, 112,\n",
              "       113, 114, 115, 116, 117, 118, 119])"
            ]
          },
          "metadata": {},
          "execution_count": 10
        }
      ],
      "source": [
        "v = np.arange(100,120)\n",
        "v"
      ]
    },
    {
      "cell_type": "code",
      "execution_count": 11,
      "metadata": {
        "id": "vPsMxJkhO0eV",
        "outputId": "58662943-eccf-4514-9041-bb60abca5ae6",
        "colab": {
          "base_uri": "https://localhost:8080/"
        }
      },
      "outputs": [
        {
          "output_type": "execute_result",
          "data": {
            "text/plain": [
              "(array([100, 101, 102, 103, 104]),\n",
              " array([105, 106, 107, 108, 109, 110, 111, 112, 113, 114, 115, 116, 117,\n",
              "        118, 119]))"
            ]
          },
          "metadata": {},
          "execution_count": 11
        }
      ],
      "source": [
        "v[:5], v[5:]"
      ]
    },
    {
      "cell_type": "markdown",
      "metadata": {
        "id": "nI4eaKnrO0eV"
      },
      "source": [
        "finally, observe how we can create a random permutation of a specific vector"
      ]
    },
    {
      "cell_type": "code",
      "execution_count": 12,
      "metadata": {
        "id": "UZ4sauErO0eV",
        "outputId": "2ea9823d-ecfb-4dfb-b141-86f690c93ac0",
        "colab": {
          "base_uri": "https://localhost:8080/"
        }
      },
      "outputs": [
        {
          "output_type": "execute_result",
          "data": {
            "text/plain": [
              "array([117, 107, 104, 112, 114, 102, 115, 105, 118, 100, 109, 110, 106,\n",
              "       119, 116, 103, 111, 101, 113, 108])"
            ]
          },
          "metadata": {},
          "execution_count": 12
        }
      ],
      "source": [
        "np.random.permutation(v)"
      ]
    },
    {
      "cell_type": "markdown",
      "metadata": {
        "id": "xk8-6LbdO0eW"
      },
      "source": [
        "or the first natural numbers"
      ]
    },
    {
      "cell_type": "code",
      "execution_count": 13,
      "metadata": {
        "id": "bDLBW65kO0eW",
        "outputId": "603879e1-1b74-47b8-ac94-a345a52dfe03",
        "colab": {
          "base_uri": "https://localhost:8080/"
        }
      },
      "outputs": [
        {
          "output_type": "execute_result",
          "data": {
            "text/plain": [
              "array([ 7, 14,  4,  5, 11,  0,  2, 10,  8,  1, 13, 16, 17, 15,  6, 18,  3,\n",
              "       12,  9, 19])"
            ]
          },
          "metadata": {},
          "execution_count": 13
        }
      ],
      "source": [
        "p = np.random.permutation(20)\n",
        "p"
      ]
    },
    {
      "cell_type": "markdown",
      "metadata": {
        "id": "qq5nztx1O0eW"
      },
      "source": [
        "how do you interpret this?"
      ]
    },
    {
      "cell_type": "code",
      "execution_count": 16,
      "metadata": {
        "id": "zmpY2H1TO0eX",
        "outputId": "1a893428-fefb-43db-efd5-a74ab72af3ae",
        "colab": {
          "base_uri": "https://localhost:8080/"
        }
      },
      "outputs": [
        {
          "output_type": "execute_result",
          "data": {
            "text/plain": [
              "array([100, 102, 110, 108, 101, 113, 116, 117, 115, 106, 118, 103, 112,\n",
              "       109, 119])"
            ]
          },
          "metadata": {},
          "execution_count": 16
        }
      ],
      "source": [
        "v[p[5:]]"
      ]
    },
    {
      "cell_type": "code",
      "execution_count": 17,
      "metadata": {
        "id": "KLyXrtS6O0eX",
        "outputId": "02f3b752-71b9-470e-840d-518c72180b78",
        "colab": {
          "base_uri": "https://localhost:8080/"
        }
      },
      "outputs": [
        {
          "output_type": "execute_result",
          "data": {
            "text/plain": [
              "array([[ 7,  9,  1, 16, 98],\n",
              "       [14, 59, 79, 71, 51],\n",
              "       [ 4,  1, 43, 41, 39],\n",
              "       [ 5, 88, 78, 24, 26],\n",
              "       [11, 35, 89, 94, 43]])"
            ]
          },
          "metadata": {},
          "execution_count": 17
        }
      ],
      "source": [
        "x[p[:5]]"
      ]
    },
    {
      "cell_type": "code",
      "execution_count": null,
      "metadata": {
        "id": "ESpSAdwwO0eX"
      },
      "outputs": [],
      "source": []
    },
    {
      "cell_type": "code",
      "execution_count": null,
      "metadata": {
        "id": "xrkUy7hKO0eY"
      },
      "outputs": [],
      "source": []
    },
    {
      "cell_type": "markdown",
      "metadata": {
        "id": "KMhIOeucO0eY"
      },
      "source": [
        "### assignment\n",
        "\n",
        "in this task you will have to complete the function  `split_data` below so that:\n",
        "\n",
        "- it accepts two arguments `X` and `y`, either of which can be any numpy array (1D, 2D, etc.) of the **same** size $n$ (observe the  `assert` statement), and a `pct` \n",
        "- creates a random permutation of the natural number from $0$ to $n-1$\n",
        "- partitions the permutations so that the first partition contains the first `n1_elements` $=$ `int(n * pct)` numbers, and the second partition the rest\n",
        "- interpret the permutation partitions components as indexes to `X` and `y` so that they are partitioned into `X1`, `X2` and `y1`, `y2` respectively\n",
        "\n",
        "note that **indexes to array** must be of type `int`. do the following to convert a float to int"
      ]
    },
    {
      "cell_type": "code",
      "execution_count": 18,
      "metadata": {
        "id": "FiJqOhsrO0eZ",
        "outputId": "0c546d65-3525-4033-b66e-05883ccbfd92",
        "colab": {
          "base_uri": "https://localhost:8080/"
        }
      },
      "outputs": [
        {
          "output_type": "stream",
          "name": "stdout",
          "text": [
            "3.0\n",
            "3\n"
          ]
        }
      ],
      "source": [
        "a,b = 10,.3\n",
        "c = a*b\n",
        "print (c)\n",
        "c = int(c)\n",
        "print(c)"
      ]
    },
    {
      "cell_type": "markdown",
      "source": [
        "**MI SOLUCIÓN**\n"
      ],
      "metadata": {
        "id": "Rx1IHeQgR6qe"
      }
    },
    {
      "cell_type": "code",
      "source": [
        "def split_data(X, y, pct):\n",
        "    assert len(X) == len(y), \"X and y must have the same length\"\n",
        "    assert 0 < pct < 1, \"pct must be in the (0,1) interval\"\n",
        "\n",
        "    # shuffle indices\n",
        "    n = len(X)\n",
        "    indices = np.random.permutation(n)\n",
        "\n",
        "    # split indices\n",
        "    n1_elements = int(n * pct)\n",
        "    permutation_partition_1 = indices[:n1_elements]\n",
        "    permutation_partition_2 = indices[n1_elements:]\n",
        "\n",
        "    # create subsets\n",
        "    X1 = X[permutation_partition_1]\n",
        "    X2 = X[permutation_partition_2]\n",
        "    y1 = y[permutation_partition_1]\n",
        "    y2 = y[permutation_partition_2]\n",
        "\n",
        "    return X1, X2, y1, y2"
      ],
      "metadata": {
        "id": "XDQLTcsbREUl"
      },
      "execution_count": 36,
      "outputs": []
    },
    {
      "cell_type": "markdown",
      "metadata": {
        "id": "cCX-FcImO0eZ"
      },
      "source": [
        "check your solution manually with the following code"
      ]
    },
    {
      "cell_type": "code",
      "execution_count": 37,
      "metadata": {
        "id": "Su2KIu98O0eZ",
        "outputId": "bc59ca0f-f288-4221-cf61-6852fdb25831",
        "colab": {
          "base_uri": "https://localhost:8080/"
        }
      },
      "outputs": [
        {
          "output_type": "stream",
          "name": "stdout",
          "text": [
            "[[ 0  1  2  3  4  5  6  7]\n",
            " [ 1 47  2  2 27 38 28 47]\n",
            " [ 2 77 88 61 79 35 29 73]\n",
            " [ 3 32 14 82 19 14 64 95]\n",
            " [ 4 36 14 31  0 93 76 21]\n",
            " [ 5  6 57 24 65  6 11 96]\n",
            " [ 6 76 32 74 68 24 39 52]\n",
            " [ 7 29  4 61 17 93 30 75]\n",
            " [ 8 26 67  8 57 29 81 57]\n",
            " [ 9 38 57 90 35 22 27 57]\n",
            " [10 65 52 59 67 69 35 74]\n",
            " [11 11 33 53 69  1 81 54]\n",
            " [12 64 50 21 54 97 50 62]\n",
            " [13 79 19 41 39 55 33 45]\n",
            " [14 18  2 86 85 72 91 38]\n",
            " [15 29 64  0 66 87 85 45]\n",
            " [16 58 63 36 82 39 50 92]\n",
            " [17  3 41 76 69  3 65 74]\n",
            " [18 33 93 14 38 58 92 84]\n",
            " [19  6 70 76 18 88 86 50]]\n",
            "[100 101 102 103 104 105 106 107 108 109 110 111 112 113 114 115 116 117\n",
            " 118 119]\n"
          ]
        }
      ],
      "source": [
        "XX = np.random.randint(100, size=(20,8))\n",
        "yy = np.arange(100,100+len(XX))\n",
        "XX[:,0] = range(len(XX))\n",
        "XX[0,:] = range(XX.shape[1])\n",
        "print (XX)\n",
        "print (yy)"
      ]
    },
    {
      "cell_type": "code",
      "execution_count": 38,
      "metadata": {
        "id": "AE6Mnv8GO0ea"
      },
      "outputs": [],
      "source": [
        "Xtr, Xts, ytr, yts = split_data(XX, yy, pct=.7)"
      ]
    },
    {
      "cell_type": "code",
      "execution_count": 39,
      "metadata": {
        "id": "-ZBTBBy_O0ea",
        "outputId": "a3e4ae0d-ba3c-43fe-d81b-9301be267dff",
        "colab": {
          "base_uri": "https://localhost:8080/"
        }
      },
      "outputs": [
        {
          "output_type": "execute_result",
          "data": {
            "text/plain": [
              "(6789, 6789, 2190, 2190)"
            ]
          },
          "metadata": {},
          "execution_count": 39
        }
      ],
      "source": [
        "# check partition ok\n",
        "np.sum(XX), np.sum(Xtr) + np.sum(Xts), np.sum(yy), np.sum(ytr)+np.sum(yts)"
      ]
    },
    {
      "cell_type": "code",
      "execution_count": 40,
      "metadata": {
        "id": "VNplconsO0ea",
        "outputId": "8e078c96-5fc0-4a1f-cbe4-21696157c85d",
        "colab": {
          "base_uri": "https://localhost:8080/"
        }
      },
      "outputs": [
        {
          "output_type": "stream",
          "name": "stdout",
          "text": [
            "[[ 6 76 32 74 68 24 39 52]\n",
            " [ 1 47  2  2 27 38 28 47]\n",
            " [13 79 19 41 39 55 33 45]\n",
            " [ 7 29  4 61 17 93 30 75]\n",
            " [15 29 64  0 66 87 85 45]\n",
            " [ 8 26 67  8 57 29 81 57]\n",
            " [ 5  6 57 24 65  6 11 96]\n",
            " [ 2 77 88 61 79 35 29 73]\n",
            " [ 0  1  2  3  4  5  6  7]\n",
            " [18 33 93 14 38 58 92 84]\n",
            " [10 65 52 59 67 69 35 74]\n",
            " [ 3 32 14 82 19 14 64 95]\n",
            " [14 18  2 86 85 72 91 38]\n",
            " [19  6 70 76 18 88 86 50]] \n",
            "--\n",
            "[[11 11 33 53 69  1 81 54]\n",
            " [17  3 41 76 69  3 65 74]\n",
            " [ 4 36 14 31  0 93 76 21]\n",
            " [16 58 63 36 82 39 50 92]\n",
            " [ 9 38 57 90 35 22 27 57]\n",
            " [12 64 50 21 54 97 50 62]] \n",
            "--\n",
            "[106 101 113 107 115 108 105 102 100 118 110 103 114 119] \n",
            "--\n",
            "[111 117 104 116 109 112] \n",
            "--\n"
          ]
        }
      ],
      "source": [
        "print (Xtr, \"\\n--\")\n",
        "print (Xts, \"\\n--\")\n",
        "print (ytr, \"\\n--\")\n",
        "print (yts, \"\\n--\")"
      ]
    },
    {
      "cell_type": "code",
      "execution_count": 41,
      "metadata": {
        "id": "tt-rmFE0O0ea",
        "outputId": "56780cc5-37ce-418b-becc-9a425ad1effb",
        "colab": {
          "base_uri": "https://localhost:8080/"
        }
      },
      "outputs": [
        {
          "output_type": "execute_result",
          "data": {
            "text/plain": [
              "array([[11, 11, 33, 53, 69,  1, 81, 54],\n",
              "       [17,  3, 41, 76, 69,  3, 65, 74],\n",
              "       [ 4, 36, 14, 31,  0, 93, 76, 21],\n",
              "       [16, 58, 63, 36, 82, 39, 50, 92],\n",
              "       [ 9, 38, 57, 90, 35, 22, 27, 57],\n",
              "       [12, 64, 50, 21, 54, 97, 50, 62]])"
            ]
          },
          "metadata": {},
          "execution_count": 41
        }
      ],
      "source": [
        "Xts"
      ]
    },
    {
      "cell_type": "code",
      "execution_count": 41,
      "metadata": {
        "id": "Yz-B0veYO0eb"
      },
      "outputs": [],
      "source": []
    },
    {
      "cell_type": "markdown",
      "metadata": {
        "id": "k9gMcQQ6O0eb"
      },
      "source": [
        "**submit your code**"
      ]
    },
    {
      "cell_type": "code",
      "execution_count": 42,
      "metadata": {
        "scrolled": true,
        "id": "rIGZTyR6O0eb",
        "outputId": "e603758d-7194-478d-a6cf-fab24ec706b5",
        "colab": {
          "base_uri": "https://localhost:8080/",
          "height": 128
        }
      },
      "outputs": [
        {
          "output_type": "display_data",
          "data": {
            "text/plain": [
              "<IPython.core.display.HTML object>"
            ],
            "text/html": [
              "\n",
              "                    <b>task_01 submitted.</b> <b><font color=\"blue\">your grade is 5</font></b> \n",
              "                    <p/><pre>----- grader message -------</pre>testing with 100 random calls<br/><b>correct</b><pre>----------------------------</pre>\n",
              "                    <p/><p/>\n",
              "                    <div style=\"font-size:10px\"><b>SUBMISSION CODE</b> lSrAAgPNgCd/2Jew/es8XXztsTvzcTXaF5Ds+AU2iTytA9eHVdCylPB6VGTay/L0yqsOVX2HUliCSqXHnI+oUIBL8iBsKpzMbsUOOKr7uWeSrgcjNLbGQWxIQxYcXn68TF5NH6Zs+BB8MFTPiwYbkwf4qJjYkPMKeVPt1wd8ZHE=</div>\n",
              "                    "
            ]
          },
          "metadata": {}
        }
      ],
      "source": [
        "student.submit_task(globals(), task_id=\"task_01\");\n"
      ]
    },
    {
      "cell_type": "code",
      "execution_count": null,
      "metadata": {
        "id": "orfDiPnRO0eb"
      },
      "outputs": [],
      "source": []
    },
    {
      "cell_type": "markdown",
      "metadata": {
        "id": "KzWNQ7WRO0eb"
      },
      "source": [
        "## Task 2: Fit a model and make predictions"
      ]
    },
    {
      "cell_type": "markdown",
      "metadata": {
        "id": "8vcEFn9rO0ec"
      },
      "source": [
        "observe how we create new data from synthetic datasets available in `sklearn`"
      ]
    },
    {
      "cell_type": "code",
      "execution_count": 43,
      "metadata": {
        "id": "TwbE4EZRO0ec"
      },
      "outputs": [],
      "source": [
        "from sklearn.datasets import make_moons\n",
        "import matplotlib.pyplot as plt\n",
        "from local.lib import mlutils\n",
        "%matplotlib inline"
      ]
    },
    {
      "cell_type": "code",
      "execution_count": 45,
      "metadata": {
        "id": "4HL2DCZeO0ec",
        "outputId": "00b43c05-e801-47e9-f7ab-8bcf85e5f2f2",
        "colab": {
          "base_uri": "https://localhost:8080/"
        }
      },
      "outputs": [
        {
          "output_type": "execute_result",
          "data": {
            "text/plain": [
              "((200, 2), (200,))"
            ]
          },
          "metadata": {},
          "execution_count": 45
        }
      ],
      "source": [
        "X, y = make_moons(200, noise=0.2)\n",
        "X.shape, y.shape"
      ]
    },
    {
      "cell_type": "code",
      "execution_count": 46,
      "metadata": {
        "id": "OZ_h93ppO0ec",
        "outputId": "5894ba0f-832a-4b93-ad7d-2ea0cd953936",
        "colab": {
          "base_uri": "https://localhost:8080/",
          "height": 430
        }
      },
      "outputs": [
        {
          "output_type": "display_data",
          "data": {
            "text/plain": [
              "<Figure size 640x480 with 1 Axes>"
            ],
            "image/png": "[encoded data removed]"
          },
          "metadata": {}
        }
      ],
      "source": [
        "mlutils.plot_2Ddata(X,y); plt.grid();"
      ]
    },
    {
      "cell_type": "markdown",
      "metadata": {
        "id": "zc_bBWIyO0ec"
      },
      "source": [
        "observe also how we create an algorithm instance and fit a model"
      ]
    },
    {
      "cell_type": "code",
      "execution_count": 47,
      "metadata": {
        "id": "XAZR2CV4O0ec",
        "outputId": "10ec87ed-09d8-4fa2-f7e1-45c70652fa1c",
        "colab": {
          "base_uri": "https://localhost:8080/",
          "height": 447
        }
      },
      "outputs": [
        {
          "output_type": "execute_result",
          "data": {
            "text/plain": [
              "(0.470575, 0.529425)"
            ]
          },
          "metadata": {},
          "execution_count": 47
        },
        {
          "output_type": "display_data",
          "data": {
            "text/plain": [
              "<Figure size 640x480 with 1 Axes>"
            ],
            "image/png": "[encoded data removed]"
          },
          "metadata": {}
        }
      ],
      "source": [
        "from sklearn.svm import SVC\n",
        "estimator = SVC(gamma=1)\n",
        "estimator.fit(X,y)\n",
        "mlutils.plot_2Ddata_with_boundary(estimator.predict, X, y)"
      ]
    },
    {
      "cell_type": "markdown",
      "metadata": {
        "id": "JV6RfE_lO0ed"
      },
      "source": [
        "and how we make predictions"
      ]
    },
    {
      "cell_type": "code",
      "execution_count": 48,
      "metadata": {
        "id": "rUbaQfJiO0ed",
        "outputId": "3c1dd2db-2319-40d4-b824-0f4bea2fcc0c",
        "colab": {
          "base_uri": "https://localhost:8080/"
        }
      },
      "outputs": [
        {
          "output_type": "stream",
          "name": "stdout",
          "text": [
            "(200,)\n"
          ]
        },
        {
          "output_type": "execute_result",
          "data": {
            "text/plain": [
              "array([1, 1, 1, 0, 0, 0, 1, 0, 0, 1, 1, 0, 0, 0, 0, 0, 1, 0, 0, 0, 0, 0,\n",
              "       0, 1, 0, 0, 0, 1, 1, 1, 1, 1, 0, 1, 0, 1, 0, 0, 0, 0, 1, 0, 0, 0,\n",
              "       1, 1, 0, 0, 0, 1, 0, 1, 1, 0, 0, 1, 0, 1, 0, 0, 1, 1, 0, 1, 1, 0,\n",
              "       1, 0, 1, 0, 1, 0, 0, 1, 1, 0, 1, 0, 1, 0, 1, 1, 0, 0, 1, 1, 0, 0,\n",
              "       0, 0, 1, 1, 0, 1, 1, 0, 0, 1, 1, 1, 0, 0, 1, 1, 0, 0, 0, 1, 0, 0,\n",
              "       0, 0, 1, 1, 0, 1, 1, 0, 0, 1, 0, 0, 1, 1, 1, 1, 1, 1, 1, 1, 0, 1,\n",
              "       0, 0, 1, 0, 0, 1, 0, 1, 0, 1, 1, 1, 0, 0, 0, 0, 0, 1, 0, 0, 0, 1,\n",
              "       1, 1, 0, 1, 1, 0, 1, 0, 0, 0, 0, 1, 0, 1, 1, 0, 1, 1, 1, 1, 1, 1,\n",
              "       1, 0, 0, 0, 1, 1, 0, 1, 1, 0, 1, 1, 1, 0, 0, 0, 1, 0, 1, 1, 0, 1,\n",
              "       1, 0])"
            ]
          },
          "metadata": {},
          "execution_count": 48
        }
      ],
      "source": [
        "preds = estimator.predict(X)\n",
        "print (preds.shape)\n",
        "preds"
      ]
    },
    {
      "cell_type": "markdown",
      "metadata": {
        "id": "b9wWqBGQO0ee"
      },
      "source": [
        "in this task you have to complete the following function so that:\n",
        "\n",
        "- it makes two non-random partitions of `X` and `y`. One containing the first half of the data and one containing the second part. If the number of elements of `X` is odd, then the second half will contain one more element than the first half.\n",
        "- it fits the model with the first part of the data\n",
        "- it makes predictions on the second half of the data\n",
        "- returns the estimator fitted, and the predictions on the second half of the data."
      ]
    },
    {
      "cell_type": "markdown",
      "source": [
        "**MI SOLUCIÓN**"
      ],
      "metadata": {
        "id": "yOQjLgQBTAeV"
      }
    },
    {
      "cell_type": "code",
      "execution_count": 52,
      "metadata": {
        "id": "5KJ6GNvAO0ee"
      },
      "outputs": [],
      "source": [
        "def fit_and_predict(estimator, X, y):\n",
        "    assert len(X)==len(y), \"X and y must have the same length\"\n",
        "    \n",
        "    n_elements = len(X) // 2\n",
        "    x1, y1 = X[:n_elements] , y[:n_elements]\n",
        "    x2 = X[n_elements:]\n",
        "    \n",
        "    estimator.fit(x1, y1)\n",
        "    predictions = estimator.predict(x2)    \n",
        "    return estimator, predictions"
      ]
    },
    {
      "cell_type": "markdown",
      "metadata": {
        "id": "P9pcoGNKO0ef"
      },
      "source": [
        "check your code. your predictions should be similar to\n",
        "\n",
        "    preds\n",
        "    >> array([0, 0, 0, 0, 1, 0, 1, 1, 1, 0])"
      ]
    },
    {
      "cell_type": "code",
      "execution_count": 53,
      "metadata": {
        "id": "kwlnbxxTO0ef",
        "outputId": "fdaf7688-5e9f-4a30-ed76-54e2948a2e9e",
        "colab": {
          "base_uri": "https://localhost:8080/"
        }
      },
      "outputs": [
        {
          "output_type": "execute_result",
          "data": {
            "text/plain": [
              "((20, 2), (20,))"
            ]
          },
          "metadata": {},
          "execution_count": 53
        }
      ],
      "source": [
        "X = np.array([[ 0.74799424, -0.5867667 ],\n",
        "       [-0.64457753,  1.25127894],\n",
        "       [ 0.53682593,  0.10931563],\n",
        "       [-0.88825294, -0.06987509],\n",
        "       [ 0.99612638, -0.52295157],\n",
        "       [ 1.20586692,  0.01930477],\n",
        "       [-0.19368482,  0.65121567],\n",
        "       [ 0.1973759 ,  0.82250723],\n",
        "       [ 0.94859234, -0.5457241 ],\n",
        "       [ 1.87967948, -0.22740261],\n",
        "       [ 0.58766146,  0.3982837 ],\n",
        "       [ 0.27731571,  1.14369568],\n",
        "       [-0.67421956,  0.12785382],\n",
        "       [ 0.56957459,  1.05330376],\n",
        "       [ 1.52435938, -0.29864338],\n",
        "       [-0.15973608,  0.21790711],\n",
        "       [ 1.59037406, -0.56875485],\n",
        "       [ 0.43257507, -0.48900315],\n",
        "       [ 1.09440413, -0.73789029],\n",
        "       [-0.32940869,  0.74671384]])\n",
        "y = np.array([1, 0, 1, 0, 1, 0, 0, 0, 1, 1, 0, 0, 0, 0, 1, 1, 1, 1, 1, 0])\n",
        "X.shape, y.shape"
      ]
    },
    {
      "cell_type": "code",
      "execution_count": 54,
      "metadata": {
        "id": "MZa42bLFO0eg",
        "outputId": "7ab6d9d1-f790-485e-e417-bbc0dcd7679f",
        "colab": {
          "base_uri": "https://localhost:8080/"
        }
      },
      "outputs": [
        {
          "output_type": "execute_result",
          "data": {
            "text/plain": [
              "array([0, 0, 0, 0, 1, 0, 1, 1, 1, 0])"
            ]
          },
          "metadata": {},
          "execution_count": 54
        }
      ],
      "source": [
        "from sklearn.linear_model import LogisticRegression\n",
        "estimator = LogisticRegression()\n",
        "estimator, preds = fit_and_predict(estimator, X, y)\n",
        "preds"
      ]
    },
    {
      "cell_type": "code",
      "execution_count": 55,
      "metadata": {
        "id": "vrn1F7tOO0eg"
      },
      "outputs": [],
      "source": [
        "\n"
      ]
    },
    {
      "cell_type": "markdown",
      "metadata": {
        "id": "i6qNXg1_O0eg"
      },
      "source": [
        "**submit your code**"
      ]
    },
    {
      "cell_type": "code",
      "execution_count": 55,
      "metadata": {
        "id": "qBjxTbwzO0eg",
        "outputId": "c430cb53-9cee-4dbe-d1c6-d0d78e2f1f4a",
        "colab": {
          "base_uri": "https://localhost:8080/",
          "height": 128
        }
      },
      "outputs": [
        {
          "output_type": "display_data",
          "data": {
            "text/plain": [
              "<IPython.core.display.HTML object>"
            ],
            "text/html": [
              "\n",
              "                    <b>task_02 submitted.</b> <b><font color=\"blue\">your grade is 5</font></b> \n",
              "                    <p/><pre>----- grader message -------</pre>testing with 100 random calls<br/><b>correct</b><pre>----------------------------</pre>\n",
              "                    <p/><p/>\n",
              "                    <div style=\"font-size:10px\"><b>SUBMISSION CODE</b> H6Wu7fsHZJASf9ms5RSWgRevucb9MALVxDxVKH+a/7wgLdj+sz3NyyjvM/nOoe00fxc9nQMv925CQdulBXM5+qsIdwtVrWjgeRVv3fbuU/0DZkVbK750yV0eYN1vzRAH+AvNT4HxLAuYMZBEFmdhu351X+R5vVjF7FPN3KNHRv4=</div>\n",
              "                    "
            ]
          },
          "metadata": {}
        }
      ],
      "source": [
        "student.submit_task(globals(), task_id=\"task_02\");\n"
      ]
    },
    {
      "cell_type": "code",
      "execution_count": null,
      "metadata": {
        "id": "G0vF1QRUO0eg"
      },
      "outputs": [],
      "source": []
    },
    {
      "cell_type": "markdown",
      "metadata": {
        "id": "mUbf1rVLO0eh"
      },
      "source": [
        "## Task 3: Select data with indices\n",
        "\n",
        "Observe how we can create a vector or matrix of `True/False` (boolean) by applying a condition to any matrix or vector"
      ]
    },
    {
      "cell_type": "code",
      "execution_count": 56,
      "metadata": {
        "id": "YL-wNcdRO0eh",
        "outputId": "41b52c87-f51d-4700-dc00-e7d8705998ce",
        "colab": {
          "base_uri": "https://localhost:8080/"
        }
      },
      "outputs": [
        {
          "output_type": "stream",
          "name": "stdout",
          "text": [
            "[3 4 4 7 8 8 0 9 7 8 9 6 9 1 1]\n"
          ]
        }
      ],
      "source": [
        "import numpy as np\n",
        "y = np.random.randint(10, size=15)\n",
        "print (y)"
      ]
    },
    {
      "cell_type": "code",
      "execution_count": 57,
      "metadata": {
        "id": "Ii0AEbAjO0eh",
        "outputId": "175f9533-295e-4a4c-9855-5d910bb5e12c",
        "colab": {
          "base_uri": "https://localhost:8080/"
        }
      },
      "outputs": [
        {
          "output_type": "stream",
          "name": "stdout",
          "text": [
            "[ True  True  True False False False  True False False False False False\n",
            " False  True  True]\n"
          ]
        }
      ],
      "source": [
        "y_less_than_5 = y<5\n",
        "print (y_less_than_5)"
      ]
    },
    {
      "cell_type": "markdown",
      "metadata": {
        "id": "KP1gQEEJO0eh"
      },
      "source": [
        "and how we can select elements of a vector using a boolean vector of the same length"
      ]
    },
    {
      "cell_type": "code",
      "execution_count": 58,
      "metadata": {
        "id": "jQ8bawyaO0eh",
        "outputId": "08064ee5-3cfa-41f1-cb1b-c4ba356fba4b",
        "colab": {
          "base_uri": "https://localhost:8080/"
        }
      },
      "outputs": [
        {
          "output_type": "execute_result",
          "data": {
            "text/plain": [
              "array([3, 4, 4, 0, 1, 1])"
            ]
          },
          "metadata": {},
          "execution_count": 58
        }
      ],
      "source": [
        "y[y_less_than_5]"
      ]
    },
    {
      "cell_type": "code",
      "execution_count": 59,
      "metadata": {
        "id": "Swy7YqmtO0eh",
        "outputId": "0813aa35-ee30-4857-8119-2e081c2202ce",
        "colab": {
          "base_uri": "https://localhost:8080/"
        }
      },
      "outputs": [
        {
          "output_type": "execute_result",
          "data": {
            "text/plain": [
              "array([3, 4, 4, 0, 1, 1])"
            ]
          },
          "metadata": {},
          "execution_count": 59
        }
      ],
      "source": [
        "y[y<5]"
      ]
    },
    {
      "cell_type": "markdown",
      "metadata": {
        "id": "E-w8peXAO0ei"
      },
      "source": [
        "python doesn't really care how you construct the vector of booleans to index any other vector or array"
      ]
    },
    {
      "cell_type": "code",
      "execution_count": 60,
      "metadata": {
        "id": "HeRdh9xrO0ei",
        "outputId": "945133a1-a332-4002-98d9-415431843516",
        "colab": {
          "base_uri": "https://localhost:8080/"
        }
      },
      "outputs": [
        {
          "output_type": "execute_result",
          "data": {
            "text/plain": [
              "array([10, 19,  6, 17, 16,  5,  6, 15, 18,  0,  1, 19, 19,  6,  6])"
            ]
          },
          "metadata": {},
          "execution_count": 60
        }
      ],
      "source": [
        "v = np.random.randint(20, size=15)\n",
        "v"
      ]
    },
    {
      "cell_type": "code",
      "execution_count": 61,
      "metadata": {
        "id": "22WSg4obO0ei",
        "outputId": "964d94ea-d26c-4fac-9827-46fc829ec3a7",
        "colab": {
          "base_uri": "https://localhost:8080/"
        }
      },
      "outputs": [
        {
          "output_type": "execute_result",
          "data": {
            "text/plain": [
              "array([10, 19,  6,  6,  6,  6])"
            ]
          },
          "metadata": {},
          "execution_count": 61
        }
      ],
      "source": [
        "v[y<5]"
      ]
    },
    {
      "cell_type": "markdown",
      "metadata": {
        "id": "TUkIxXC-O0ei"
      },
      "source": [
        "in this task you will complete the function `select_per_class` such that:\n",
        "\n",
        "- receives an array of data `X` and a vector of labels `y`, of the same length\n",
        "- the labels `y` are binary, they can only have values `0` or `1`\n",
        "- makes two partitions of `X`, one corresponding to the places where y is 0, and another where y is 1\n",
        "- returns the two partitions\n",
        "\n",
        "For instance, for the following X and y\n",
        "\n",
        "    X = np.array([[8, 8, 5, 2, 0, 0],\n",
        "                  [4, 4, 8, 1, 3, 7],\n",
        "                  [4, 5, 3, 6, 9, 6],\n",
        "                  [0, 3, 5, 3, 5, 3],\n",
        "                  [0, 7, 2, 7, 1, 7],\n",
        "                  [5, 7, 7, 1, 8, 5],\n",
        "                  [2, 5, 7, 3, 8, 0],\n",
        "                  [7, 2, 5, 9, 8, 7],\n",
        "                  [1, 6, 6, 1, 6, 0],\n",
        "                  [0, 7, 6, 5, 3, 4]])\n",
        "\n",
        "    y = np.array([0, 0, 0, 0, 1, 1, 0, 0, 1, 1])\n",
        "\n",
        "your function must return the following two matrices:\n",
        "\n",
        "    [[8 8 5 2 0 0]\n",
        "     [4 4 8 1 3 7]\n",
        "     [4 5 3 6 9 6]\n",
        "     [0 3 5 3 5 3]\n",
        "     [2 5 7 3 8 0]\n",
        "     [7 2 5 9 8 7]]\n",
        "     \n",
        "    [[0 7 2 7 1 7]\n",
        "     [5 7 7 1 8 5]\n",
        "     [1 6 6 1 6 0]\n",
        "     [0 7 6 5 3 4]]\n"
      ]
    },
    {
      "cell_type": "markdown",
      "source": [
        "**MI SOLUCÓN**"
      ],
      "metadata": {
        "id": "ADuGxAJuVCai"
      }
    },
    {
      "cell_type": "code",
      "execution_count": 67,
      "metadata": {
        "id": "669IAquVO0ej"
      },
      "outputs": [],
      "source": [
        "def select_per_class(X, y):\n",
        "    X1 = X[y==0]\n",
        "    X2 = X[y==1]\n",
        "    return X1, X2"
      ]
    },
    {
      "cell_type": "markdown",
      "metadata": {
        "id": "yJYl8fdEO0ej"
      },
      "source": [
        "check manually your code"
      ]
    },
    {
      "cell_type": "code",
      "execution_count": 68,
      "metadata": {
        "id": "HoesVSkeO0ek"
      },
      "outputs": [],
      "source": [
        "X = np.array([[8, 8, 5, 2, 0, 0],\n",
        "              [4, 4, 8, 1, 3, 7],\n",
        "              [4, 5, 3, 6, 9, 6],\n",
        "              [0, 3, 5, 3, 5, 3],\n",
        "              [0, 7, 2, 7, 1, 7],\n",
        "              [5, 7, 7, 1, 8, 5],\n",
        "              [2, 5, 7, 3, 8, 0],\n",
        "              [7, 2, 5, 9, 8, 7],\n",
        "              [1, 6, 6, 1, 6, 0],\n",
        "              [0, 7, 6, 5, 3, 4]])\n",
        "\n",
        "y = np.array([0, 0, 0, 0, 1, 1, 0, 0, 1, 1])"
      ]
    },
    {
      "cell_type": "code",
      "execution_count": 69,
      "metadata": {
        "id": "uqAtXVauO0ek",
        "outputId": "c030f2f7-c44b-4c4a-e80b-7ba8fd38c5db",
        "colab": {
          "base_uri": "https://localhost:8080/"
        }
      },
      "outputs": [
        {
          "output_type": "stream",
          "name": "stdout",
          "text": [
            "[[8 8 5 2 0 0]\n",
            " [4 4 8 1 3 7]\n",
            " [4 5 3 6 9 6]\n",
            " [0 3 5 3 5 3]\n",
            " [2 5 7 3 8 0]\n",
            " [7 2 5 9 8 7]]\n",
            "[[0 7 2 7 1 7]\n",
            " [5 7 7 1 8 5]\n",
            " [1 6 6 1 6 0]\n",
            " [0 7 6 5 3 4]]\n"
          ]
        }
      ],
      "source": [
        "a,b = select_per_class(X, y)\n",
        "print (a)\n",
        "print (b)"
      ]
    },
    {
      "cell_type": "code",
      "execution_count": null,
      "metadata": {
        "id": "Hg2-gLZoO0ek"
      },
      "outputs": [],
      "source": []
    },
    {
      "cell_type": "markdown",
      "metadata": {
        "id": "Zhg9i3UEO0ek"
      },
      "source": [
        "**submit your code**"
      ]
    },
    {
      "cell_type": "code",
      "execution_count": 70,
      "metadata": {
        "scrolled": true,
        "id": "8gLiUbCbO0el",
        "outputId": "284c9e90-3f23-4515-9572-015badcc9ccd",
        "colab": {
          "base_uri": "https://localhost:8080/",
          "height": 128
        }
      },
      "outputs": [
        {
          "output_type": "display_data",
          "data": {
            "text/plain": [
              "<IPython.core.display.HTML object>"
            ],
            "text/html": [
              "\n",
              "                    <b>task_03 submitted.</b> <b><font color=\"blue\">your grade is 5</font></b> \n",
              "                    <p/><pre>----- grader message -------</pre>testing with 100 random calls<br/><b>correct</b><pre>----------------------------</pre>\n",
              "                    <p/><p/>\n",
              "                    <div style=\"font-size:10px\"><b>SUBMISSION CODE</b> sIbpXel6ehqnbxUi0E9hcj3TLqjOZPasv8moRl0tFL2hRxX6lZ1mm2zjIH06CIMmwrBbKbjsxjNVC+nl96CZuxTlfmXKmTh6BGqonvKDEFDVDoksOJR87he83xspX7Y5RUadT2lkWY2n62j6tvOUOXkrdFLIw+iqXBer1sEyneQ=</div>\n",
              "                    "
            ]
          },
          "metadata": {}
        }
      ],
      "source": [
        "student.submit_task(globals(), task_id=\"task_03\");\n"
      ]
    },
    {
      "cell_type": "code",
      "execution_count": null,
      "metadata": {
        "id": "KnA_2d_TO0el"
      },
      "outputs": [],
      "source": []
    },
    {
      "cell_type": "markdown",
      "metadata": {
        "id": "aU351i_mO0el"
      },
      "source": [
        "## Task 4: Measure accuracy\n",
        "\n",
        "complete the following function such that:\n",
        "\n",
        "- it receives to binary vectors (composed of 0's and 1's) of the same length\n",
        "- returns the percentage of elements that are the same in both vectors\n",
        "\n",
        "recall that\n",
        "\n",
        "- if `a` and `b` are vectors of the same length a==b   returns a vector of booleans in which positions in True signal that elements in those position are the same\n",
        "- if `k` is a vector of booleans, `sum(k)` returns the number of `True` elements.\n",
        "\n",
        "\n",
        "for the following two vectors you should get 0.375\n",
        "\n",
        "    a = np.array([1,0,0,0,1,1,0,0])\n",
        "    b = np.array([1,1,1,1,0,1,0,1])\n",
        "    accuracy(a, b)\n",
        "    >>> 0.375\n"
      ]
    },
    {
      "cell_type": "markdown",
      "source": [
        "**MI SOLUCIÓN**"
      ],
      "metadata": {
        "id": "VZ_hJWbOVf0I"
      }
    },
    {
      "cell_type": "code",
      "execution_count": 80,
      "metadata": {
        "id": "JCuZg8KZO0el"
      },
      "outputs": [],
      "source": [
        "#accuracy que toma como entrada dos parámetros y_true y y_pred, y devuelve el resultado de np.mean(y_true == y_pred)\n",
        "accuracy = lambda y_true, y_pred: np.mean(y_true == y_pred)"
      ]
    },
    {
      "cell_type": "code",
      "execution_count": 81,
      "metadata": {
        "id": "F1BrWiKTO0el",
        "outputId": "e0a52ccf-2cb8-44d0-cf18-a662352df099",
        "colab": {
          "base_uri": "https://localhost:8080/"
        }
      },
      "outputs": [
        {
          "output_type": "execute_result",
          "data": {
            "text/plain": [
              "0.375"
            ]
          },
          "metadata": {},
          "execution_count": 81
        }
      ],
      "source": [
        "a = np.array([1,0,0,0,1,1,0,0])\n",
        "b = np.array([1,1,1,1,0,1,0,1])\n",
        "accuracy(a,b)"
      ]
    },
    {
      "cell_type": "code",
      "execution_count": null,
      "metadata": {
        "id": "_MJjnNG6O0em"
      },
      "outputs": [],
      "source": []
    },
    {
      "cell_type": "code",
      "execution_count": null,
      "metadata": {
        "id": "a9j9x7GmO0em"
      },
      "outputs": [],
      "source": []
    },
    {
      "cell_type": "markdown",
      "metadata": {
        "id": "pg-nS15UO0em"
      },
      "source": [
        "**submit your code**"
      ]
    },
    {
      "cell_type": "code",
      "execution_count": 79,
      "metadata": {
        "scrolled": false,
        "id": "M6agYvXyO0em",
        "outputId": "08165d8d-07ca-4a70-b94f-91e5017a9524",
        "colab": {
          "base_uri": "https://localhost:8080/",
          "height": 128
        }
      },
      "outputs": [
        {
          "output_type": "display_data",
          "data": {
            "text/plain": [
              "<IPython.core.display.HTML object>"
            ],
            "text/html": [
              "\n",
              "                    <b>task_04 submitted.</b> <b><font color=\"blue\">your grade is 5</font></b> \n",
              "                    <p/><pre>----- grader message -------</pre>testing with 100 random calls<br/><b>correct</b><pre>----------------------------</pre>\n",
              "                    <p/><p/>\n",
              "                    <div style=\"font-size:10px\"><b>SUBMISSION CODE</b> fx1Vh3ZFFnB2+YFHBzN5gbumOyGT6pAkyjyqHkkwZ+ocAA738ywyI3oD42PWF4RMPwpWXpfBMdFv7ekqg4Rzdo4E1cdPVtKzngYG/+7qRzAamZIxy5yfky03/W5g8lwbpFSaL9izBsvztJG3XyH7WUY7GPapRmZaZYcgubtwA+A=</div>\n",
              "                    "
            ]
          },
          "metadata": {}
        }
      ],
      "source": [
        "student.submit_task(globals(), task_id=\"task_04\");\n"
      ]
    },
    {
      "cell_type": "code",
      "execution_count": null,
      "metadata": {
        "id": "w8viYREaO0em"
      },
      "outputs": [],
      "source": []
    },
    {
      "cell_type": "markdown",
      "metadata": {
        "id": "dt4tpPWEO0em"
      },
      "source": [
        "## Task 5: Random split, fit and predict\n",
        "\n",
        "complete the following function so that:\n",
        "\n",
        "- fits the estimator with a random sample of size `train_pct` of the data `X` and binary labels `y`. You can use the `split_data` function developed previously\n",
        "- makes predictions on the test part of the data\n",
        "- measures accuracy of those predictions. you may use the function created previously\n",
        "- returns the estimator fitted, the test part of `X` and `y`, and the accuracy measured\n",
        "\n",
        "\n",
        "the execution below should return something with the following structure (the actual numbers will change)\n",
        "\n",
        "\n",
        "    (LogisticRegression(C=1.0, class_weight=None, dual=False, fit_intercept=True,\n",
        "                        intercept_scaling=1, l1_ratio=None, max_iter=100,\n",
        "                        multi_class='warn', n_jobs=None, penalty='l2',\n",
        "                        random_state=None, solver='lbfgs', tol=0.0001, verbose=0,\n",
        "                        warm_start=False), array([[-0.76329684,  0.2572069 ],\n",
        "            [ 1.02356829,  0.37629873],\n",
        "            [ 0.32099415,  0.82244488],\n",
        "            [ 1.08858315, -0.61299904],\n",
        "            [ 0.58470767,  0.58510559],\n",
        "            [ 1.60827644, -0.15477173],\n",
        "            [ 1.53121784,  0.78121504],\n",
        "            [-0.42734156,  0.87585237],\n",
        "            [-0.36368682,  0.72152586],\n",
        "            [ 1.05312619,  0.19835526]]), array([0, 0, 1, 1, 0, 1, 1, 0, 0, 0]), 0.6)"
      ]
    },
    {
      "cell_type": "code",
      "source": [
        "def split_fit_predict(estimator, X, y, train_pct):\n",
        "    \n",
        "    def accuracy(y_true, y_pred):\n",
        "        return np.mean(y_true == y_pred)\n",
        "\n",
        "    n = int(train_pct * len(X))\n",
        "    shuffle_idx = np.random.permutation(len(X))\n",
        "    Xtr, Xts,ytr, yts = X[shuffle_idx[:n]], X[shuffle_idx[n:]], y[shuffle_idx[:n]], y[shuffle_idx[n:]]\n",
        "    estimator.fit(Xtr, ytr)\n",
        "    y_pred = estimator.predict(Xts)\n",
        "    return estimator, Xts, yts, accuracy(yts, y_pred)\n"
      ],
      "metadata": {
        "id": "K9PGqnaTWiY5"
      },
      "execution_count": 87,
      "outputs": []
    },
    {
      "cell_type": "code",
      "execution_count": 88,
      "metadata": {
        "id": "u1Q0qgHMO0en",
        "outputId": "990b43ed-02cc-4733-aaeb-9b535ccd09e4",
        "colab": {
          "base_uri": "https://localhost:8080/"
        }
      },
      "outputs": [
        {
          "output_type": "execute_result",
          "data": {
            "text/plain": [
              "(LogisticRegression(),\n",
              " array([[ 0.14342163,  0.49499475],\n",
              "        [ 2.10195744, -0.17628785],\n",
              "        [ 0.7383247 ,  0.98283056],\n",
              "        [-0.61374522,  0.92674096],\n",
              "        [ 0.90195091,  0.11979223],\n",
              "        [-0.64440547,  0.97271795],\n",
              "        [ 0.85337316,  1.18620039],\n",
              "        [-0.16492764,  0.22063952],\n",
              "        [-1.10042746, -0.06200443],\n",
              "        [ 0.75433804, -0.24989446]]),\n",
              " array([1, 1, 0, 0, 0, 0, 0, 1, 0, 1]),\n",
              " 0.7)"
            ]
          },
          "metadata": {},
          "execution_count": 88
        }
      ],
      "source": [
        "from sklearn.linear_model import LogisticRegression\n",
        "\n",
        "X, y = make_moons(100, noise=0.2)\n",
        "estimator = LogisticRegression(solver=\"lbfgs\")\n",
        "split_fit_predict(estimator, X, y, train_pct=0.9)\n"
      ]
    },
    {
      "cell_type": "code",
      "execution_count": null,
      "metadata": {
        "id": "KSkICrI7O0en"
      },
      "outputs": [],
      "source": []
    },
    {
      "cell_type": "code",
      "execution_count": null,
      "metadata": {
        "id": "78Ico0LaO0en"
      },
      "outputs": [],
      "source": []
    },
    {
      "cell_type": "markdown",
      "metadata": {
        "id": "g3f7483DO0en"
      },
      "source": [
        "**submit your code**"
      ]
    },
    {
      "cell_type": "code",
      "execution_count": 91,
      "metadata": {
        "scrolled": false,
        "id": "SixY_nA3O0en",
        "outputId": "a32534b6-1f5f-4c45-f66a-be0e078353a0",
        "colab": {
          "base_uri": "https://localhost:8080/",
          "height": 128
        }
      },
      "outputs": [
        {
          "output_type": "display_data",
          "data": {
            "text/plain": [
              "<IPython.core.display.HTML object>"
            ],
            "text/html": [
              "\n",
              "                    <b>task_05 submitted.</b> <b><font color=\"blue\">your grade is 5</font></b> \n",
              "                    <p/><pre>----- grader message -------</pre>testing with 100 random calls<br/><b>correct</b><pre>----------------------------</pre>\n",
              "                    <p/><p/>\n",
              "                    <div style=\"font-size:10px\"><b>SUBMISSION CODE</b> +LwAq7mWaeIWFwPbsYohl9IOBrSz36KGKDg/hNf4UbLgS3zu3zlHSg4I8rBKAdfNXCErrp/2OFw0bAm/MTmU8BwrGWI5Gfe1W42ESdU6NaGP8KyfAXPpledP7U+QO11E6HPcB3VZzMU70iAXGPg2ZUjf2Cnzpbfw4vBFSpcFhcQ=</div>\n",
              "                    "
            ]
          },
          "metadata": {}
        }
      ],
      "source": [
        "student.submit_task(globals(), task_id=\"task_05\");\n"
      ]
    },
    {
      "cell_type": "code",
      "execution_count": null,
      "metadata": {
        "id": "Zw6yDMH6O0eo"
      },
      "outputs": [],
      "source": []
    }
  ],
  "metadata": {
    "kernelspec": {
      "display_name": "Python 3",
      "language": "python",
      "name": "python3"
    },
    "language_info": {
      "codemirror_mode": {
        "name": "ipython",
        "version": 3
      },
      "file_extension": ".py",
      "mimetype": "text/x-python",
      "name": "python",
      "nbconvert_exporter": "python",
      "pygments_lexer": "ipython3",
      "version": "3.7.3"
    },
    "colab": {
      "provenance": [],
      "include_colab_link": true
    },
    "widgets": {
      "application/vnd.jupyter.widget-state+json": {
        "1bb928c0a5464ff18832f64bf0f718f6": {
          "model_module": "@jupyter-widgets/controls",
          "model_name": "HBoxModel",
          "model_module_version": "1.5.0",
          "state": {
            "_dom_classes": [],
            "_model_module": "@jupyter-widgets/controls",
            "_model_module_version": "1.5.0",
            "_model_name": "HBoxModel",
            "_view_count": null,
            "_view_module": "@jupyter-widgets/controls",
            "_view_module_version": "1.5.0",
            "_view_name": "HBoxView",
            "box_style": "",
            "children": [
              "IPY_MODEL_f033462d7a77407a94bf4c046fee6644",
              "IPY_MODEL_f3c323e716ee46e98d8e586b3a937362",
              "IPY_MODEL_bfcf010c6a5d472db408c2be1d3108a6",
              "IPY_MODEL_6e24eb6f9038438ab833cc94166bd27d"
            ],
            "layout": "IPY_MODEL_a84359afc14144628fa872ce1b50262d"
          }
        },
        "f033462d7a77407a94bf4c046fee6644": {
          "model_module": "@jupyter-widgets/controls",
          "model_name": "VBoxModel",
          "model_module_version": "1.5.0",
          "state": {
            "_dom_classes": [],
            "_model_module": "@jupyter-widgets/controls",
            "_model_module_version": "1.5.0",
            "_model_name": "VBoxModel",
            "_view_count": null,
            "_view_module": "@jupyter-widgets/controls",
            "_view_module_version": "1.5.0",
            "_view_name": "VBoxView",
            "box_style": "",
            "children": [
              "IPY_MODEL_197344e4b665401a8caadc812c7d1b37",
              "IPY_MODEL_2e416b597a9c4170ab5ec7f83d7dbc56"
            ],
            "layout": "IPY_MODEL_77e232b037894461a2a160976aa7d96b"
          }
        },
        "f3c323e716ee46e98d8e586b3a937362": {
          "model_module": "@jupyter-widgets/controls",
          "model_name": "ButtonModel",
          "model_module_version": "1.5.0",
          "state": {
            "_dom_classes": [
              "login_button"
            ],
            "_model_module": "@jupyter-widgets/controls",
            "_model_module_version": "1.5.0",
            "_model_name": "ButtonModel",
            "_view_count": null,
            "_view_module": "@jupyter-widgets/controls",
            "_view_module_version": "1.5.0",
            "_view_name": "ButtonView",
            "button_style": "",
            "description": "Login with email",
            "disabled": false,
            "icon": "",
            "layout": "IPY_MODEL_69c569a8b7eb42ddb5035b00afdc75db",
            "style": "IPY_MODEL_b9d5214c125540f0935c60cdc9de680b",
            "tooltip": ""
          }
        },
        "bfcf010c6a5d472db408c2be1d3108a6": {
          "model_module": "@jupyter-widgets/controls",
          "model_name": "HTMLModel",
          "model_module_version": "1.5.0",
          "state": {
            "_dom_classes": [],
            "_model_module": "@jupyter-widgets/controls",
            "_model_module_version": "1.5.0",
            "_model_name": "HTMLModel",
            "_view_count": null,
            "_view_module": "@jupyter-widgets/controls",
            "_view_module_version": "1.5.0",
            "_view_name": "HTMLView",
            "description": "",
            "description_tooltip": null,
            "layout": "IPY_MODEL_001923d0bf024564a7524fad466935ba",
            "placeholder": "​",
            "style": "IPY_MODEL_5b71c6efcbcb49b1942ce1dab2f3670f",
            "value": "<center><big>or</big></center>"
          }
        },
        "6e24eb6f9038438ab833cc94166bd27d": {
          "model_module": "@jupyter-widgets/controls",
          "model_name": "ButtonModel",
          "model_module_version": "1.5.0",
          "state": {
            "_dom_classes": [
              "google_button"
            ],
            "_model_module": "@jupyter-widgets/controls",
            "_model_module_version": "1.5.0",
            "_model_name": "ButtonModel",
            "_view_count": null,
            "_view_module": "@jupyter-widgets/controls",
            "_view_module_version": "1.5.0",
            "_view_name": "ButtonView",
            "button_style": "",
            "description": "Login with Google",
            "disabled": false,
            "icon": "",
            "layout": "IPY_MODEL_03e92336a70d40c6b63779d51993aadd",
            "style": "IPY_MODEL_2c38781224464ddf9dd09ac7cc2f541c",
            "tooltip": ""
          }
        },
        "a84359afc14144628fa872ce1b50262d": {
          "model_module": "@jupyter-widgets/base",
          "model_name": "LayoutModel",
          "model_module_version": "1.2.0",
          "state": {
            "_model_module": "@jupyter-widgets/base",
            "_model_module_version": "1.2.0",
            "_model_name": "LayoutModel",
            "_view_count": null,
            "_view_module": "@jupyter-widgets/base",
            "_view_module_version": "1.2.0",
            "_view_name": "LayoutView",
            "align_content": null,
            "align_items": null,
            "align_self": null,
            "border": null,
            "bottom": null,
            "display": null,
            "flex": null,
            "flex_flow": null,
            "grid_area": null,
            "grid_auto_columns": null,
            "grid_auto_flow": null,
            "grid_auto_rows": null,
            "grid_column": null,
            "grid_gap": null,
            "grid_row": null,
            "grid_template_areas": null,
            "grid_template_columns": null,
            "grid_template_rows": null,
            "height": null,
            "justify_content": null,
            "justify_items": null,
            "left": null,
            "margin": null,
            "max_height": null,
            "max_width": null,
            "min_height": null,
            "min_width": null,
            "object_fit": null,
            "object_position": null,
            "order": null,
            "overflow": null,
            "overflow_x": null,
            "overflow_y": null,
            "padding": null,
            "right": null,
            "top": null,
            "visibility": null,
            "width": null
          }
        },
        "197344e4b665401a8caadc812c7d1b37": {
          "model_module": "@jupyter-widgets/controls",
          "model_name": "TextModel",
          "model_module_version": "1.5.0",
          "state": {
            "_dom_classes": [],
            "_model_module": "@jupyter-widgets/controls",
            "_model_module_version": "1.5.0",
            "_model_name": "TextModel",
            "_view_count": null,
            "_view_module": "@jupyter-widgets/controls",
            "_view_module_version": "1.5.0",
            "_view_name": "TextView",
            "continuous_update": true,
            "description": "email",
            "description_tooltip": null,
            "disabled": false,
            "layout": "IPY_MODEL_3644fc2b5f22403981635ca217b31a7d",
            "placeholder": "​",
            "style": "IPY_MODEL_5aa788c3e1934f3daae36102795306ff",
            "value": ""
          }
        },
        "2e416b597a9c4170ab5ec7f83d7dbc56": {
          "model_module": "@jupyter-widgets/controls",
          "model_name": "PasswordModel",
          "model_module_version": "1.5.0",
          "state": {
            "_dom_classes": [],
            "_model_module": "@jupyter-widgets/controls",
            "_model_module_version": "1.5.0",
            "_model_name": "PasswordModel",
            "_view_count": null,
            "_view_module": "@jupyter-widgets/controls",
            "_view_module_version": "1.5.0",
            "_view_name": "PasswordView",
            "continuous_update": true,
            "description": "password",
            "description_tooltip": null,
            "disabled": false,
            "layout": "IPY_MODEL_ee3920db250a4f4b8f56cd6180cbfbc1",
            "placeholder": "​",
            "style": "IPY_MODEL_a2882151d3244cd49a015c61bb0b4ab9",
            "value": ""
          }
        },
        "77e232b037894461a2a160976aa7d96b": {
          "model_module": "@jupyter-widgets/base",
          "model_name": "LayoutModel",
          "model_module_version": "1.2.0",
          "state": {
            "_model_module": "@jupyter-widgets/base",
            "_model_module_version": "1.2.0",
            "_model_name": "LayoutModel",
            "_view_count": null,
            "_view_module": "@jupyter-widgets/base",
            "_view_module_version": "1.2.0",
            "_view_name": "LayoutView",
            "align_content": null,
            "align_items": null,
            "align_self": null,
            "border": null,
            "bottom": null,
            "display": null,
            "flex": null,
            "flex_flow": null,
            "grid_area": null,
            "grid_auto_columns": null,
            "grid_auto_flow": null,
            "grid_auto_rows": null,
            "grid_column": null,
            "grid_gap": null,
            "grid_row": null,
            "grid_template_areas": null,
            "grid_template_columns": null,
            "grid_template_rows": null,
            "height": null,
            "justify_content": null,
            "justify_items": null,
            "left": null,
            "margin": null,
            "max_height": null,
            "max_width": null,
            "min_height": null,
            "min_width": null,
            "object_fit": null,
            "object_position": null,
            "order": null,
            "overflow": null,
            "overflow_x": null,
            "overflow_y": null,
            "padding": null,
            "right": null,
            "top": null,
            "visibility": null,
            "width": null
          }
        },
        "69c569a8b7eb42ddb5035b00afdc75db": {
          "model_module": "@jupyter-widgets/base",
          "model_name": "LayoutModel",
          "model_module_version": "1.2.0",
          "state": {
            "_model_module": "@jupyter-widgets/base",
            "_model_module_version": "1.2.0",
            "_model_name": "LayoutModel",
            "_view_count": null,
            "_view_module": "@jupyter-widgets/base",
            "_view_module_version": "1.2.0",
            "_view_name": "LayoutView",
            "align_content": null,
            "align_items": null,
            "align_self": null,
            "border": null,
            "bottom": null,
            "display": null,
            "flex": null,
            "flex_flow": null,
            "grid_area": null,
            "grid_auto_columns": null,
            "grid_auto_flow": null,
            "grid_auto_rows": null,
            "grid_column": null,
            "grid_gap": null,
            "grid_row": null,
            "grid_template_areas": null,
            "grid_template_columns": null,
            "grid_template_rows": null,
            "height": "53px",
            "justify_content": null,
            "justify_items": null,
            "left": null,
            "margin": null,
            "max_height": null,
            "max_width": null,
            "min_height": null,
            "min_width": null,
            "object_fit": null,
            "object_position": null,
            "order": null,
            "overflow": null,
            "overflow_x": null,
            "overflow_y": null,
            "padding": null,
            "right": null,
            "top": null,
            "visibility": null,
            "width": "150px"
          }
        },
        "b9d5214c125540f0935c60cdc9de680b": {
          "model_module": "@jupyter-widgets/controls",
          "model_name": "ButtonStyleModel",
          "model_module_version": "1.5.0",
          "state": {
            "_model_module": "@jupyter-widgets/controls",
            "_model_module_version": "1.5.0",
            "_model_name": "ButtonStyleModel",
            "_view_count": null,
            "_view_module": "@jupyter-widgets/base",
            "_view_module_version": "1.2.0",
            "_view_name": "StyleView",
            "button_color": null,
            "font_weight": ""
          }
        },
        "001923d0bf024564a7524fad466935ba": {
          "model_module": "@jupyter-widgets/base",
          "model_name": "LayoutModel",
          "model_module_version": "1.2.0",
          "state": {
            "_model_module": "@jupyter-widgets/base",
            "_model_module_version": "1.2.0",
            "_model_name": "LayoutModel",
            "_view_count": null,
            "_view_module": "@jupyter-widgets/base",
            "_view_module_version": "1.2.0",
            "_view_name": "LayoutView",
            "align_content": null,
            "align_items": null,
            "align_self": null,
            "border": null,
            "bottom": null,
            "display": null,
            "flex": null,
            "flex_flow": null,
            "grid_area": null,
            "grid_auto_columns": null,
            "grid_auto_flow": null,
            "grid_auto_rows": null,
            "grid_column": null,
            "grid_gap": null,
            "grid_row": null,
            "grid_template_areas": null,
            "grid_template_columns": null,
            "grid_template_rows": null,
            "height": null,
            "justify_content": null,
            "justify_items": null,
            "left": null,
            "margin": null,
            "max_height": null,
            "max_width": null,
            "min_height": null,
            "min_width": null,
            "object_fit": null,
            "object_position": null,
            "order": null,
            "overflow": null,
            "overflow_x": null,
            "overflow_y": null,
            "padding": null,
            "right": null,
            "top": null,
            "visibility": null,
            "width": "100px"
          }
        },
        "5b71c6efcbcb49b1942ce1dab2f3670f": {
          "model_module": "@jupyter-widgets/controls",
          "model_name": "DescriptionStyleModel",
          "model_module_version": "1.5.0",
          "state": {
            "_model_module": "@jupyter-widgets/controls",
            "_model_module_version": "1.5.0",
            "_model_name": "DescriptionStyleModel",
            "_view_count": null,
            "_view_module": "@jupyter-widgets/base",
            "_view_module_version": "1.2.0",
            "_view_name": "StyleView",
            "description_width": ""
          }
        },
        "03e92336a70d40c6b63779d51993aadd": {
          "model_module": "@jupyter-widgets/base",
          "model_name": "LayoutModel",
          "model_module_version": "1.2.0",
          "state": {
            "_model_module": "@jupyter-widgets/base",
            "_model_module_version": "1.2.0",
            "_model_name": "LayoutModel",
            "_view_count": null,
            "_view_module": "@jupyter-widgets/base",
            "_view_module_version": "1.2.0",
            "_view_name": "LayoutView",
            "align_content": null,
            "align_items": null,
            "align_self": null,
            "border": null,
            "bottom": null,
            "display": null,
            "flex": null,
            "flex_flow": null,
            "grid_area": null,
            "grid_auto_columns": null,
            "grid_auto_flow": null,
            "grid_auto_rows": null,
            "grid_column": null,
            "grid_gap": null,
            "grid_row": null,
            "grid_template_areas": null,
            "grid_template_columns": null,
            "grid_template_rows": null,
            "height": "53px",
            "justify_content": null,
            "justify_items": null,
            "left": null,
            "margin": null,
            "max_height": null,
            "max_width": null,
            "min_height": null,
            "min_width": null,
            "object_fit": null,
            "object_position": null,
            "order": null,
            "overflow": null,
            "overflow_x": null,
            "overflow_y": null,
            "padding": null,
            "right": null,
            "top": null,
            "visibility": null,
            "width": "200px"
          }
        },
        "2c38781224464ddf9dd09ac7cc2f541c": {
          "model_module": "@jupyter-widgets/controls",
          "model_name": "ButtonStyleModel",
          "model_module_version": "1.5.0",
          "state": {
            "_model_module": "@jupyter-widgets/controls",
            "_model_module_version": "1.5.0",
            "_model_name": "ButtonStyleModel",
            "_view_count": null,
            "_view_module": "@jupyter-widgets/base",
            "_view_module_version": "1.2.0",
            "_view_name": "StyleView",
            "button_color": null,
            "font_weight": ""
          }
        },
        "3644fc2b5f22403981635ca217b31a7d": {
          "model_module": "@jupyter-widgets/base",
          "model_name": "LayoutModel",
          "model_module_version": "1.2.0",
          "state": {
            "_model_module": "@jupyter-widgets/base",
            "_model_module_version": "1.2.0",
            "_model_name": "LayoutModel",
            "_view_count": null,
            "_view_module": "@jupyter-widgets/base",
            "_view_module_version": "1.2.0",
            "_view_name": "LayoutView",
            "align_content": null,
            "align_items": null,
            "align_self": null,
            "border": null,
            "bottom": null,
            "display": null,
            "flex": null,
            "flex_flow": null,
            "grid_area": null,
            "grid_auto_columns": null,
            "grid_auto_flow": null,
            "grid_auto_rows": null,
            "grid_column": null,
            "grid_gap": null,
            "grid_row": null,
            "grid_template_areas": null,
            "grid_template_columns": null,
            "grid_template_rows": null,
            "height": "25px",
            "justify_content": null,
            "justify_items": null,
            "left": null,
            "margin": null,
            "max_height": null,
            "max_width": null,
            "min_height": null,
            "min_width": null,
            "object_fit": null,
            "object_position": null,
            "order": null,
            "overflow": null,
            "overflow_x": null,
            "overflow_y": null,
            "padding": null,
            "right": null,
            "top": null,
            "visibility": null,
            "width": "300px"
          }
        },
        "5aa788c3e1934f3daae36102795306ff": {
          "model_module": "@jupyter-widgets/controls",
          "model_name": "DescriptionStyleModel",
          "model_module_version": "1.5.0",
          "state": {
            "_model_module": "@jupyter-widgets/controls",
            "_model_module_version": "1.5.0",
            "_model_name": "DescriptionStyleModel",
            "_view_count": null,
            "_view_module": "@jupyter-widgets/base",
            "_view_module_version": "1.2.0",
            "_view_name": "StyleView",
            "description_width": ""
          }
        },
        "ee3920db250a4f4b8f56cd6180cbfbc1": {
          "model_module": "@jupyter-widgets/base",
          "model_name": "LayoutModel",
          "model_module_version": "1.2.0",
          "state": {
            "_model_module": "@jupyter-widgets/base",
            "_model_module_version": "1.2.0",
            "_model_name": "LayoutModel",
            "_view_count": null,
            "_view_module": "@jupyter-widgets/base",
            "_view_module_version": "1.2.0",
            "_view_name": "LayoutView",
            "align_content": null,
            "align_items": null,
            "align_self": null,
            "border": null,
            "bottom": null,
            "display": null,
            "flex": null,
            "flex_flow": null,
            "grid_area": null,
            "grid_auto_columns": null,
            "grid_auto_flow": null,
            "grid_auto_rows": null,
            "grid_column": null,
            "grid_gap": null,
            "grid_row": null,
            "grid_template_areas": null,
            "grid_template_columns": null,
            "grid_template_rows": null,
            "height": "24px",
            "justify_content": null,
            "justify_items": null,
            "left": null,
            "margin": null,
            "max_height": null,
            "max_width": null,
            "min_height": null,
            "min_width": null,
            "object_fit": null,
            "object_position": null,
            "order": null,
            "overflow": null,
            "overflow_x": null,
            "overflow_y": null,
            "padding": null,
            "right": null,
            "top": null,
            "visibility": null,
            "width": "300px"
          }
        },
        "a2882151d3244cd49a015c61bb0b4ab9": {
          "model_module": "@jupyter-widgets/controls",
          "model_name": "DescriptionStyleModel",
          "model_module_version": "1.5.0",
          "state": {
            "_model_module": "@jupyter-widgets/controls",
            "_model_module_version": "1.5.0",
            "_model_name": "DescriptionStyleModel",
            "_view_count": null,
            "_view_module": "@jupyter-widgets/base",
            "_view_module_version": "1.2.0",
            "_view_name": "StyleView",
            "description_width": ""
          }
        }
      }
    }
  },
  "nbformat": 4,
  "nbformat_minor": 0
}